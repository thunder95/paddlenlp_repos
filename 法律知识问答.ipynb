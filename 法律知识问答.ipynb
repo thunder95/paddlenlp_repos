{
 "cells": [
  {
   "cell_type": "markdown",
   "metadata": {
    "collapsed": false
   },
   "source": [
    "## 比赛地址\n",
    "\n",
    "https://www.sodic.com.cn\n",
    "\n",
    "https://www.sodic.com.cn/competitions/900022\n",
    "\n",
    "**baseline**: https://github.com/zzy99/Legal-QA-Baseline\n",
    "\n",
    "## 数据集: \n",
    "https://www.sodic.com.cn/competitions/900022/datasets\n",
    "\n",
    "## 赛题背景\n",
    "用户面临具体案情或者一些法律常识问题时，往往需要整合多个平台的信息，才能得到解答。利用人工智能实现法律咨询智能问答，能够为用户提供高效、便捷、精准的法律服务，对推进法治中国建设具有重要意义。\n",
    "\n",
    "## 赛题任务\n",
    "本赛题提供真实的法律问答数据集，参赛选手需基于该数据集，针对用户提问，输出正确、完整、简洁的参考回答。"
   ]
  },
  {
   "cell_type": "markdown",
   "metadata": {
    "collapsed": false
   },
   "source": [
    "### 使用paddlenlp进行文本生成"
   ]
  },
  {
   "cell_type": "code",
   "execution_count": null,
   "metadata": {
    "collapsed": false
   },
   "outputs": [],
   "source": [
    "\n",
    "https://github.com/PaddlePaddle/PaddleNLP/tree/develop/examples/text_generation/ernie-gen"
   ]
  },
  {
   "cell_type": "code",
   "execution_count": null,
   "metadata": {
    "collapsed": false
   },
   "outputs": [
    {
     "name": "stdout",
     "output_type": "stream",
     "text": [
      "Cloning into 'PaddleNLP'...\n",
      "remote: Enumerating objects: 4845, done.\u001b[K\n",
      "remote: Counting objects: 100% (4845/4845), done.\u001b[K\n",
      "remote: Compressing objects: 100% (2388/2388), done.\u001b[K\n",
      "remote: Total 4845 (delta 2862), reused 4209 (delta 2346), pack-reused 0\u001b[K\n",
      "Receiving objects: 100% (4845/4845), 33.07 MiB | 1.01 MiB/s, done.\n",
      "Resolving deltas: 100% (2862/2862), done.\n",
      "Checking connectivity... done.\n"
     ]
    }
   ],
   "source": [
    "!git clone https://gitee.com/paddlepaddle/PaddleNLP.git"
   ]
  },
  {
   "cell_type": "code",
   "execution_count": null,
   "metadata": {
    "collapsed": false
   },
   "outputs": [
    {
     "name": "stdout",
     "output_type": "stream",
     "text": [
      "/home/aistudio/work\n",
      "{'债权债务': 3182, '劳动纠纷': 2719, '交通事故': 4198, '房产纠纷': 2190, '婚姻家庭': 3920}\n"
     ]
    }
   ],
   "source": [
    "# 分析数据集, 获取cause的类别, 并统计类别分布情况, 类别数量基本均衡\r\n",
    "%cd ~/work\r\n",
    "!python category_stat.py"
   ]
  },
  {
   "cell_type": "code",
   "execution_count": null,
   "metadata": {
    "collapsed": false
   },
   "outputs": [
    {
     "name": "stdout",
     "output_type": "stream",
     "text": [
      "/home/aistudio/work\n"
     ]
    }
   ],
   "source": [
    "#生成样本数据对, 需要自己选择是否需要candidate answer, 由于里面有脏数据, 本人只用了answer\n",
    "%cd ~/work\n",
    "!python create_pair.py"
   ]
  },
  {
   "cell_type": "code",
   "execution_count": null,
   "metadata": {
    "collapsed": false
   },
   "outputs": [
    {
     "name": "stdout",
     "output_type": "stream",
     "text": [
      "/home/aistudio/PaddleNLP/examples/text_generation/ernie-gen\n",
      "====>show args:  Namespace(adam_epsilon=1e-08, batch_size=24, beam_width=1, device='gpu', init_checkpoint=None, label_smooth=0.0, learning_rate=1e-05, length_penalty=1.0, logging_steps=100, max_decode_len=256, max_encode_len=256, model_name_or_path='ernie-1.0', noise_prob=0.0, num_epochs=25, output_dir='./tmp/', save_dir=None, save_steps=500, use_random_noice=False, warmup_proportion=0.1, weight_decay=0.1)\n",
      "\u001b[32m[2021-06-29 15:40:56,310] [    INFO]\u001b[0m - Already cached /home/aistudio/.paddlenlp/models/ernie-1.0/ernie_v1_chn_base.pdparams\u001b[0m\n",
      "\u001b[35m[2021-06-29 15:40:56,310] [   DEBUG]\u001b[0m - init ErnieModel with config: {'attention_probs_dropout_prob': 0.1, 'hidden_act': 'relu', 'hidden_dropout_prob': 0.1, 'hidden_size': 768, 'initializer_range': 0.02, 'max_position_embeddings': 513, 'num_attention_heads': 12, 'num_hidden_layers': 12, 'type_vocab_size': 2, 'vocab_size': 18000, 'pad_token_id': 0}\u001b[0m\n",
      "W0629 15:40:56.311609  7898 device_context.cc:404] Please NOTE: device: 0, GPU Compute Capability: 7.0, Driver API Version: 10.1, Runtime API Version: 10.1\n",
      "W0629 15:40:56.317267  7898 device_context.cc:422] device: 0, cuDNN Version: 7.6.\n",
      "\u001b[32m[2021-06-29 15:41:01,295] [    INFO]\u001b[0m - loading pretrained model from /home/aistudio/.paddlenlp/models/ernie-1.0/ernie_v1_chn_base.pdparams\u001b[0m\n",
      "\u001b[32m[2021-06-29 15:41:02,052] [    INFO]\u001b[0m - param:mlm_bias not set in pretrained model, skip\u001b[0m\n",
      "\u001b[32m[2021-06-29 15:41:02,053] [    INFO]\u001b[0m - param:mlm.weight not set in pretrained model, skip\u001b[0m\n",
      "\u001b[32m[2021-06-29 15:41:02,053] [    INFO]\u001b[0m - param:mlm.bias not set in pretrained model, skip\u001b[0m\n",
      "\u001b[32m[2021-06-29 15:41:02,053] [    INFO]\u001b[0m - param:mlm_ln.weight not set in pretrained model, skip\u001b[0m\n",
      "\u001b[32m[2021-06-29 15:41:02,053] [    INFO]\u001b[0m - param:mlm_ln.bias not set in pretrained model, skip\u001b[0m\n",
      "\u001b[32m[2021-06-29 15:41:02,359] [    INFO]\u001b[0m - Found /home/aistudio/.paddlenlp/models/ernie-1.0/vocab.txt\u001b[0m\n",
      "dataset done.....\n",
      "epoch:  0\n",
      "\u001b[32m[2021-06-29 15:42:26,320] [    INFO]\u001b[0m - global step 100, epoch: 0, batch: 100, loss: 57.612823, speed: 1.19 step/s, lr: 6.513e-07\u001b[0m\n",
      "\u001b[32m[2021-06-29 15:43:47,607] [    INFO]\u001b[0m - global step 200, epoch: 0, batch: 200, loss: 34.987995, speed: 1.23 step/s, lr: 1.309e-06\u001b[0m\n",
      "\u001b[32m[2021-06-29 15:45:08,628] [    INFO]\u001b[0m - global step 300, epoch: 0, batch: 300, loss: 16.506012, speed: 1.23 step/s, lr: 1.967e-06\u001b[0m\n",
      "\u001b[32m[2021-06-29 15:46:32,076] [    INFO]\u001b[0m - global step 400, epoch: 0, batch: 400, loss: 12.102307, speed: 1.20 step/s, lr: 2.625e-06\u001b[0m\n",
      "\u001b[32m[2021-06-29 15:47:52,223] [    INFO]\u001b[0m - global step 500, epoch: 0, batch: 500, loss: 10.315840, speed: 1.25 step/s, lr: 3.283e-06\u001b[0m\n",
      "\u001b[32m[2021-06-29 15:47:52,649] [    INFO]\u001b[0m - Evaluating...\u001b[0m\n",
      "100%|███████████████████████████████████████████| 68/68 [15:17<00:00, 13.49s/it]\n",
      "Building prefix dict from the default dictionary ...\n",
      "Loading model from cache /tmp/jieba.cache\n",
      "Loading model cost 0.707 seconds.\n",
      "Prefix dict has been built successfully.\n",
      "\u001b[32m[2021-06-29 16:03:10,553] [    INFO]\u001b[0m - Rouge-1: 0.00000 ,Rouge-2: 0.00000 ,Rouge-L: 0.00000, score: 0.00000\u001b[0m\n",
      "\u001b[32m[2021-06-29 16:04:33,367] [    INFO]\u001b[0m - global step 600, epoch: 0, batch: 600, loss: 9.467803, speed: 0.10 step/s, lr: 3.941e-06\u001b[0m\n",
      "epoch:  1\n",
      "\u001b[32m[2021-06-29 16:05:56,216] [    INFO]\u001b[0m - global step 700, epoch: 1, batch: 92, loss: 8.514939, speed: 1.21 step/s, lr: 4.599e-06\u001b[0m\n",
      "\u001b[32m[2021-06-29 16:07:21,366] [    INFO]\u001b[0m - global step 800, epoch: 1, batch: 192, loss: 7.432031, speed: 1.17 step/s, lr: 5.257e-06\u001b[0m\n",
      "\u001b[32m[2021-06-29 16:08:45,234] [    INFO]\u001b[0m - global step 900, epoch: 1, batch: 292, loss: 6.934788, speed: 1.19 step/s, lr: 5.914e-06\u001b[0m\n",
      "\u001b[32m[2021-06-29 16:10:07,709] [    INFO]\u001b[0m - global step 1000, epoch: 1, batch: 392, loss: 6.875724, speed: 1.21 step/s, lr: 6.572e-06\u001b[0m\n",
      "\u001b[32m[2021-06-29 16:10:08,322] [    INFO]\u001b[0m - Evaluating...\u001b[0m\n",
      "100%|███████████████████████████████████████████| 68/68 [14:51<00:00, 13.11s/it]\n",
      "\u001b[32m[2021-06-29 16:24:59,961] [    INFO]\u001b[0m - Rouge-1: 0.00000 ,Rouge-2: 0.00000 ,Rouge-L: 0.00000, score: 0.00000\u001b[0m\n",
      "\u001b[32m[2021-06-29 16:26:22,036] [    INFO]\u001b[0m - global step 1100, epoch: 1, batch: 492, loss: 5.154246, speed: 0.10 step/s, lr: 7.230e-06\u001b[0m\n",
      "\u001b[32m[2021-06-29 16:27:42,670] [    INFO]\u001b[0m - global step 1200, epoch: 1, batch: 592, loss: 4.660796, speed: 1.24 step/s, lr: 7.888e-06\u001b[0m\n",
      "epoch:  2\n",
      "\u001b[32m[2021-06-29 16:29:08,514] [    INFO]\u001b[0m - global step 1300, epoch: 2, batch: 84, loss: 3.734071, speed: 1.16 step/s, lr: 8.546e-06\u001b[0m\n",
      "\u001b[32m[2021-06-29 16:30:25,894] [    INFO]\u001b[0m - global step 1400, epoch: 2, batch: 184, loss: 3.333323, speed: 1.29 step/s, lr: 9.204e-06\u001b[0m\n",
      "\u001b[32m[2021-06-29 16:31:49,113] [    INFO]\u001b[0m - global step 1500, epoch: 2, batch: 284, loss: 3.112644, speed: 1.20 step/s, lr: 9.862e-06\u001b[0m\n",
      "\u001b[32m[2021-06-29 16:31:49,723] [    INFO]\u001b[0m - Evaluating...\u001b[0m\n",
      "100%|███████████████████████████████████████████| 68/68 [15:38<00:00, 13.81s/it]\n",
      "\u001b[32m[2021-06-29 16:47:28,536] [    INFO]\u001b[0m - Rouge-1: 3.55264 ,Rouge-2: 0.54346 ,Rouge-L: 9.51456, score: 5.63085\u001b[0m\n",
      "\u001b[32m[2021-06-29 16:48:54,774] [    INFO]\u001b[0m - global step 1600, epoch: 2, batch: 384, loss: 3.052450, speed: 0.10 step/s, lr: 9.942e-06\u001b[0m\n",
      "\u001b[32m[2021-06-29 16:50:16,728] [    INFO]\u001b[0m - global step 1700, epoch: 2, batch: 484, loss: 2.882378, speed: 1.22 step/s, lr: 9.869e-06\u001b[0m\n",
      "\u001b[32m[2021-06-29 16:51:39,277] [    INFO]\u001b[0m - global step 1800, epoch: 2, batch: 584, loss: 2.661356, speed: 1.21 step/s, lr: 9.796e-06\u001b[0m\n",
      "epoch:  3\n",
      "\u001b[32m[2021-06-29 16:53:02,793] [    INFO]\u001b[0m - global step 1900, epoch: 3, batch: 76, loss: 4.109470, speed: 1.20 step/s, lr: 9.723e-06\u001b[0m\n",
      "\u001b[32m[2021-06-29 16:54:27,579] [    INFO]\u001b[0m - global step 2000, epoch: 3, batch: 176, loss: 3.187898, speed: 1.18 step/s, lr: 9.650e-06\u001b[0m\n",
      "\u001b[32m[2021-06-29 16:54:28,189] [    INFO]\u001b[0m - Evaluating...\u001b[0m\n",
      "100%|███████████████████████████████████████████| 68/68 [14:37<00:00, 12.91s/it]\n",
      "\u001b[32m[2021-06-29 17:09:06,054] [    INFO]\u001b[0m - Rouge-1: 10.62005 ,Rouge-2: 2.21117 ,Rouge-L: 16.51680, score: 11.04576\u001b[0m\n",
      "\u001b[32m[2021-06-29 17:10:31,369] [    INFO]\u001b[0m - global step 2100, epoch: 3, batch: 276, loss: 2.572444, speed: 0.10 step/s, lr: 9.577e-06\u001b[0m\n",
      "\u001b[32m[2021-06-29 17:11:55,108] [    INFO]\u001b[0m - global step 2200, epoch: 3, batch: 376, loss: 2.858019, speed: 1.19 step/s, lr: 9.504e-06\u001b[0m\n",
      "\u001b[32m[2021-06-29 17:13:12,920] [    INFO]\u001b[0m - global step 2300, epoch: 3, batch: 476, loss: 2.141450, speed: 1.29 step/s, lr: 9.431e-06\u001b[0m\n",
      "\u001b[32m[2021-06-29 17:14:35,010] [    INFO]\u001b[0m - global step 2400, epoch: 3, batch: 576, loss: 2.193123, speed: 1.22 step/s, lr: 9.357e-06\u001b[0m\n",
      "epoch:  4\n",
      "\u001b[32m[2021-06-29 17:16:00,026] [    INFO]\u001b[0m - global step 2500, epoch: 4, batch: 68, loss: 2.451765, speed: 1.18 step/s, lr: 9.284e-06\u001b[0m\n",
      "\u001b[32m[2021-06-29 17:16:00,636] [    INFO]\u001b[0m - Evaluating...\u001b[0m\n",
      "100%|███████████████████████████████████████████| 68/68 [15:40<00:00, 13.83s/it]\n",
      "\u001b[32m[2021-06-29 17:31:40,822] [    INFO]\u001b[0m - Rouge-1: 20.27563 ,Rouge-2: 9.41523 ,Rouge-L: 25.79152, score: 19.77546\u001b[0m\n",
      "\u001b[32m[2021-06-29 17:33:05,764] [    INFO]\u001b[0m - global step 2600, epoch: 4, batch: 168, loss: 2.207631, speed: 0.10 step/s, lr: 9.211e-06\u001b[0m\n",
      "\u001b[32m[2021-06-29 17:34:27,190] [    INFO]\u001b[0m - global step 2700, epoch: 4, batch: 268, loss: 1.997350, speed: 1.23 step/s, lr: 9.138e-06\u001b[0m\n",
      "\u001b[32m[2021-06-29 17:35:48,480] [    INFO]\u001b[0m - global step 2800, epoch: 4, batch: 368, loss: 2.424331, speed: 1.23 step/s, lr: 9.065e-06\u001b[0m\n",
      "\u001b[32m[2021-06-29 17:37:13,419] [    INFO]\u001b[0m - global step 2900, epoch: 4, batch: 468, loss: 1.995531, speed: 1.18 step/s, lr: 8.992e-06\u001b[0m\n",
      "\u001b[32m[2021-06-29 17:38:35,973] [    INFO]\u001b[0m - global step 3000, epoch: 4, batch: 568, loss: 2.012805, speed: 1.21 step/s, lr: 8.919e-06\u001b[0m\n",
      "\u001b[32m[2021-06-29 17:38:36,354] [    INFO]\u001b[0m - Evaluating...\u001b[0m\n",
      "100%|███████████████████████████████████████████| 68/68 [14:38<00:00, 12.92s/it]\n",
      "\u001b[32m[2021-06-29 17:53:14,752] [    INFO]\u001b[0m - Rouge-1: 22.57558 ,Rouge-2: 7.21814 ,Rouge-L: 24.67594, score: 19.01853\u001b[0m\n",
      "epoch:  5\n",
      "\u001b[32m[2021-06-29 17:54:36,262] [    INFO]\u001b[0m - global step 3100, epoch: 5, batch: 60, loss: 2.309379, speed: 0.10 step/s, lr: 8.846e-06\u001b[0m\n",
      "\u001b[32m[2021-06-29 17:56:00,811] [    INFO]\u001b[0m - global step 3200, epoch: 5, batch: 160, loss: 2.580634, speed: 1.18 step/s, lr: 8.773e-06\u001b[0m\n",
      "\u001b[32m[2021-06-29 17:57:23,538] [    INFO]\u001b[0m - global step 3300, epoch: 5, batch: 260, loss: 1.853094, speed: 1.21 step/s, lr: 8.700e-06\u001b[0m\n",
      "\u001b[32m[2021-06-29 17:58:49,677] [    INFO]\u001b[0m - global step 3400, epoch: 5, batch: 360, loss: 2.606728, speed: 1.16 step/s, lr: 8.626e-06\u001b[0m\n",
      "\u001b[32m[2021-06-29 18:00:11,666] [    INFO]\u001b[0m - global step 3500, epoch: 5, batch: 460, loss: 1.870057, speed: 1.22 step/s, lr: 8.553e-06\u001b[0m\n",
      "\u001b[32m[2021-06-29 18:00:12,156] [    INFO]\u001b[0m - Evaluating...\u001b[0m\n",
      "100%|███████████████████████████████████████████| 68/68 [15:45<00:00, 13.91s/it]\n",
      "\u001b[32m[2021-06-29 18:15:57,762] [    INFO]\u001b[0m - Rouge-1: 22.97545 ,Rouge-2: 8.33565 ,Rouge-L: 27.23060, score: 20.71109\u001b[0m\n",
      "\u001b[32m[2021-06-29 18:17:26,899] [    INFO]\u001b[0m - global step 3600, epoch: 5, batch: 560, loss: 2.860677, speed: 0.10 step/s, lr: 8.480e-06\u001b[0m\n",
      "epoch:  6\n",
      "\u001b[32m[2021-06-29 18:18:47,278] [    INFO]\u001b[0m - global step 3700, epoch: 6, batch: 52, loss: 2.056148, speed: 1.24 step/s, lr: 8.407e-06\u001b[0m\n",
      "\u001b[32m[2021-06-29 18:20:07,890] [    INFO]\u001b[0m - global step 3800, epoch: 6, batch: 152, loss: 2.242228, speed: 1.24 step/s, lr: 8.334e-06\u001b[0m\n",
      "\u001b[32m[2021-06-29 18:21:32,859] [    INFO]\u001b[0m - global step 3900, epoch: 6, batch: 252, loss: 2.126745, speed: 1.18 step/s, lr: 8.261e-06\u001b[0m\n",
      "\u001b[32m[2021-06-29 18:22:53,232] [    INFO]\u001b[0m - global step 4000, epoch: 6, batch: 352, loss: 1.290907, speed: 1.24 step/s, lr: 8.188e-06\u001b[0m\n",
      "\u001b[32m[2021-06-29 18:22:53,964] [    INFO]\u001b[0m - Evaluating...\u001b[0m\n",
      "100%|███████████████████████████████████████████| 68/68 [13:50<00:00, 12.21s/it]\n",
      "\u001b[32m[2021-06-29 18:36:44,228] [    INFO]\u001b[0m - Rouge-1: 21.21908 ,Rouge-2: 6.06549 ,Rouge-L: 23.60812, score: 17.86753\u001b[0m\n",
      "\u001b[32m[2021-06-29 18:38:05,326] [    INFO]\u001b[0m - global step 4100, epoch: 6, batch: 452, loss: 1.525873, speed: 0.11 step/s, lr: 8.115e-06\u001b[0m\n",
      "\u001b[32m[2021-06-29 18:39:30,078] [    INFO]\u001b[0m - global step 4200, epoch: 6, batch: 552, loss: 1.728221, speed: 1.18 step/s, lr: 8.042e-06\u001b[0m\n",
      "epoch:  7\n",
      "\u001b[32m[2021-06-29 18:40:50,287] [    INFO]\u001b[0m - global step 4300, epoch: 7, batch: 44, loss: 2.205913, speed: 1.25 step/s, lr: 7.969e-06\u001b[0m\n",
      "\u001b[32m[2021-06-29 18:42:14,347] [    INFO]\u001b[0m - global step 4400, epoch: 7, batch: 144, loss: 1.366521, speed: 1.19 step/s, lr: 7.895e-06\u001b[0m\n",
      "\u001b[32m[2021-06-29 18:43:35,247] [    INFO]\u001b[0m - global step 4500, epoch: 7, batch: 244, loss: 1.720392, speed: 1.24 step/s, lr: 7.822e-06\u001b[0m\n",
      "\u001b[32m[2021-06-29 18:43:35,734] [    INFO]\u001b[0m - Evaluating...\u001b[0m\n",
      "100%|███████████████████████████████████████████| 68/68 [12:20<00:00, 10.89s/it]\n",
      "\u001b[32m[2021-06-29 18:55:56,063] [    INFO]\u001b[0m - Rouge-1: 16.59165 ,Rouge-2: 4.48485 ,Rouge-L: 18.94161, score: 14.13459\u001b[0m\n",
      "\u001b[32m[2021-06-29 18:57:18,870] [    INFO]\u001b[0m - global step 4600, epoch: 7, batch: 344, loss: 2.016191, speed: 0.12 step/s, lr: 7.749e-06\u001b[0m\n",
      "\u001b[32m[2021-06-29 18:58:42,457] [    INFO]\u001b[0m - global step 4700, epoch: 7, batch: 444, loss: 1.859436, speed: 1.20 step/s, lr: 7.676e-06\u001b[0m\n",
      "\u001b[32m[2021-06-29 19:00:07,597] [    INFO]\u001b[0m - global step 4800, epoch: 7, batch: 544, loss: 1.471851, speed: 1.17 step/s, lr: 7.603e-06\u001b[0m\n",
      "epoch:  8\n",
      "\u001b[32m[2021-06-29 19:01:29,451] [    INFO]\u001b[0m - global step 4900, epoch: 8, batch: 36, loss: 1.735111, speed: 1.22 step/s, lr: 7.530e-06\u001b[0m\n",
      "\u001b[32m[2021-06-29 19:02:52,461] [    INFO]\u001b[0m - global step 5000, epoch: 8, batch: 136, loss: 1.746849, speed: 1.20 step/s, lr: 7.457e-06\u001b[0m\n",
      "\u001b[32m[2021-06-29 19:02:53,064] [    INFO]\u001b[0m - Evaluating...\u001b[0m\n",
      "100%|███████████████████████████████████████████| 68/68 [13:57<00:00, 12.32s/it]\n",
      "\u001b[32m[2021-06-29 19:16:50,591] [    INFO]\u001b[0m - Rouge-1: 16.52597 ,Rouge-2: 4.66667 ,Rouge-L: 19.28173, score: 14.34606\u001b[0m\n",
      "\u001b[32m[2021-06-29 19:18:12,228] [    INFO]\u001b[0m - global step 5100, epoch: 8, batch: 236, loss: 2.157903, speed: 0.11 step/s, lr: 7.384e-06\u001b[0m\n",
      "\u001b[32m[2021-06-29 19:19:34,686] [    INFO]\u001b[0m - global step 5200, epoch: 8, batch: 336, loss: 2.498003, speed: 1.21 step/s, lr: 7.311e-06\u001b[0m\n",
      "\u001b[32m[2021-06-29 19:20:56,538] [    INFO]\u001b[0m - global step 5300, epoch: 8, batch: 436, loss: 1.680139, speed: 1.22 step/s, lr: 7.238e-06\u001b[0m\n",
      "\u001b[32m[2021-06-29 19:22:16,897] [    INFO]\u001b[0m - global step 5400, epoch: 8, batch: 536, loss: 2.044672, speed: 1.24 step/s, lr: 7.164e-06\u001b[0m\n",
      "epoch:  9\n",
      "\u001b[32m[2021-06-29 19:23:38,599] [    INFO]\u001b[0m - global step 5500, epoch: 9, batch: 28, loss: 1.937809, speed: 1.22 step/s, lr: 7.091e-06\u001b[0m\n",
      "\u001b[32m[2021-06-29 19:23:38,968] [    INFO]\u001b[0m - Evaluating...\u001b[0m\n",
      "100%|███████████████████████████████████████████| 68/68 [13:46<00:00, 12.15s/it]\n",
      "\u001b[32m[2021-06-29 19:37:25,467] [    INFO]\u001b[0m - Rouge-1: 11.76583 ,Rouge-2: 1.42857 ,Rouge-L: 14.36657, score: 9.96503\u001b[0m\n",
      "\u001b[32m[2021-06-29 19:38:44,909] [    INFO]\u001b[0m - global step 5600, epoch: 9, batch: 128, loss: 1.621098, speed: 0.11 step/s, lr: 7.018e-06\u001b[0m\n",
      "\u001b[32m[2021-06-29 19:40:08,154] [    INFO]\u001b[0m - global step 5700, epoch: 9, batch: 228, loss: 1.370903, speed: 1.20 step/s, lr: 6.945e-06\u001b[0m\n",
      "\u001b[32m[2021-06-29 19:41:31,688] [    INFO]\u001b[0m - global step 5800, epoch: 9, batch: 328, loss: 2.038660, speed: 1.20 step/s, lr: 6.872e-06\u001b[0m\n",
      "\u001b[32m[2021-06-29 19:42:54,991] [    INFO]\u001b[0m - global step 5900, epoch: 9, batch: 428, loss: 2.089726, speed: 1.20 step/s, lr: 6.799e-06\u001b[0m\n",
      "\u001b[32m[2021-06-29 19:44:18,181] [    INFO]\u001b[0m - global step 6000, epoch: 9, batch: 528, loss: 1.369426, speed: 1.20 step/s, lr: 6.726e-06\u001b[0m\n",
      "\u001b[32m[2021-06-29 19:44:18,739] [    INFO]\u001b[0m - Evaluating...\u001b[0m\n",
      "100%|███████████████████████████████████████████| 68/68 [13:49<00:00, 12.20s/it]\n",
      "\u001b[32m[2021-06-29 19:58:08,396] [    INFO]\u001b[0m - Rouge-1: 12.22347 ,Rouge-2: 2.58065 ,Rouge-L: 13.83442, score: 10.13610\u001b[0m\n",
      "epoch:  10\n",
      "\u001b[32m[2021-06-29 19:59:30,318] [    INFO]\u001b[0m - global step 6100, epoch: 10, batch: 20, loss: 1.843664, speed: 0.11 step/s, lr: 6.653e-06\u001b[0m\n",
      "\u001b[32m[2021-06-29 20:00:53,136] [    INFO]\u001b[0m - global step 6200, epoch: 10, batch: 120, loss: 1.993224, speed: 1.21 step/s, lr: 6.580e-06\u001b[0m\n",
      "\u001b[32m[2021-06-29 20:02:15,459] [    INFO]\u001b[0m - global step 6300, epoch: 10, batch: 220, loss: 2.287666, speed: 1.21 step/s, lr: 6.507e-06\u001b[0m\n",
      "\u001b[32m[2021-06-29 20:03:37,469] [    INFO]\u001b[0m - global step 6400, epoch: 10, batch: 320, loss: 1.685884, speed: 1.22 step/s, lr: 6.433e-06\u001b[0m\n",
      "\u001b[32m[2021-06-29 20:05:00,487] [    INFO]\u001b[0m - global step 6500, epoch: 10, batch: 420, loss: 1.492015, speed: 1.20 step/s, lr: 6.360e-06\u001b[0m\n",
      "\u001b[32m[2021-06-29 20:05:01,020] [    INFO]\u001b[0m - Evaluating...\u001b[0m\n",
      "100%|███████████████████████████████████████████| 68/68 [13:45<00:00, 12.13s/it]\n",
      "\u001b[32m[2021-06-29 20:18:46,192] [    INFO]\u001b[0m - Rouge-1: 13.30345 ,Rouge-2: 2.50000 ,Rouge-L: 14.42054, score: 10.62096\u001b[0m\n",
      "\u001b[32m[2021-06-29 20:20:05,404] [    INFO]\u001b[0m - global step 6600, epoch: 10, batch: 520, loss: 2.181805, speed: 0.11 step/s, lr: 6.287e-06\u001b[0m\n",
      "epoch:  11\n",
      "\u001b[32m[2021-06-29 20:21:29,635] [    INFO]\u001b[0m - global step 6700, epoch: 11, batch: 12, loss: 1.215889, speed: 1.19 step/s, lr: 6.214e-06\u001b[0m\n",
      "\u001b[32m[2021-06-29 20:22:51,235] [    INFO]\u001b[0m - global step 6800, epoch: 11, batch: 112, loss: 1.415501, speed: 1.23 step/s, lr: 6.141e-06\u001b[0m\n",
      "\u001b[32m[2021-06-29 20:24:09,409] [    INFO]\u001b[0m - global step 6900, epoch: 11, batch: 212, loss: 1.717547, speed: 1.28 step/s, lr: 6.068e-06\u001b[0m\n",
      "\u001b[32m[2021-06-29 20:25:31,790] [    INFO]\u001b[0m - global step 7000, epoch: 11, batch: 312, loss: 1.378769, speed: 1.21 step/s, lr: 5.995e-06\u001b[0m\n",
      "\u001b[32m[2021-06-29 20:25:32,376] [    INFO]\u001b[0m - Evaluating...\u001b[0m\n",
      "100%|███████████████████████████████████████████| 68/68 [13:13<00:00, 11.67s/it]\n",
      "\u001b[32m[2021-06-29 20:38:46,002] [    INFO]\u001b[0m - Rouge-1: 14.97549 ,Rouge-2: 4.31818 ,Rouge-L: 16.74412, score: 12.66261\u001b[0m\n",
      "\u001b[32m[2021-06-29 20:40:06,095] [    INFO]\u001b[0m - global step 7100, epoch: 11, batch: 412, loss: 1.828364, speed: 0.11 step/s, lr: 5.922e-06\u001b[0m\n",
      "\u001b[32m[2021-06-29 20:41:28,786] [    INFO]\u001b[0m - global step 7200, epoch: 11, batch: 512, loss: 1.759286, speed: 1.21 step/s, lr: 5.849e-06\u001b[0m\n",
      "epoch:  12\n",
      "\u001b[32m[2021-06-29 20:42:53,528] [    INFO]\u001b[0m - global step 7300, epoch: 12, batch: 4, loss: 1.752841, speed: 1.18 step/s, lr: 5.776e-06\u001b[0m\n",
      "\u001b[32m[2021-06-29 20:44:15,834] [    INFO]\u001b[0m - global step 7400, epoch: 12, batch: 104, loss: 1.626231, speed: 1.21 step/s, lr: 5.702e-06\u001b[0m\n",
      "\u001b[32m[2021-06-29 20:45:37,004] [    INFO]\u001b[0m - global step 7500, epoch: 12, batch: 204, loss: 1.592490, speed: 1.23 step/s, lr: 5.629e-06\u001b[0m\n",
      "\u001b[32m[2021-06-29 20:45:37,445] [    INFO]\u001b[0m - Evaluating...\u001b[0m\n",
      "100%|███████████████████████████████████████████| 68/68 [13:10<00:00, 11.63s/it]\n",
      "\u001b[32m[2021-06-29 20:58:48,125] [    INFO]\u001b[0m - Rouge-1: 14.60268 ,Rouge-2: 3.22727 ,Rouge-L: 15.93569, score: 11.85657\u001b[0m\n",
      "\u001b[32m[2021-06-29 21:00:11,833] [    INFO]\u001b[0m - global step 7600, epoch: 12, batch: 304, loss: 1.499705, speed: 0.11 step/s, lr: 5.556e-06\u001b[0m\n",
      "\u001b[32m[2021-06-29 21:01:34,232] [    INFO]\u001b[0m - global step 7700, epoch: 12, batch: 404, loss: 1.567226, speed: 1.21 step/s, lr: 5.483e-06\u001b[0m\n",
      "\u001b[32m[2021-06-29 21:02:55,418] [    INFO]\u001b[0m - global step 7800, epoch: 12, batch: 504, loss: 1.620268, speed: 1.23 step/s, lr: 5.410e-06\u001b[0m\n",
      "\u001b[32m[2021-06-29 21:04:17,304] [    INFO]\u001b[0m - global step 7900, epoch: 12, batch: 604, loss: 2.004726, speed: 1.22 step/s, lr: 5.337e-06\u001b[0m\n",
      "epoch:  13\n",
      "\u001b[32m[2021-06-29 21:05:37,520] [    INFO]\u001b[0m - global step 8000, epoch: 13, batch: 96, loss: 1.363888, speed: 1.25 step/s, lr: 5.264e-06\u001b[0m\n",
      "\u001b[32m[2021-06-29 21:05:38,159] [    INFO]\u001b[0m - Evaluating...\u001b[0m\n",
      "100%|███████████████████████████████████████████| 68/68 [14:00<00:00, 12.36s/it]\n",
      "\u001b[32m[2021-06-29 21:19:38,897] [    INFO]\u001b[0m - Rouge-1: 15.39784 ,Rouge-2: 2.63451 ,Rouge-L: 16.77857, score: 12.25920\u001b[0m\n",
      "\u001b[32m[2021-06-29 21:21:01,713] [    INFO]\u001b[0m - global step 8100, epoch: 13, batch: 196, loss: 1.444262, speed: 0.11 step/s, lr: 5.191e-06\u001b[0m\n",
      "\u001b[32m[2021-06-29 21:22:22,665] [    INFO]\u001b[0m - global step 8200, epoch: 13, batch: 296, loss: 1.554157, speed: 1.24 step/s, lr: 5.118e-06\u001b[0m\n",
      "\u001b[32m[2021-06-29 21:23:46,401] [    INFO]\u001b[0m - global step 8300, epoch: 13, batch: 396, loss: 1.767746, speed: 1.19 step/s, lr: 5.045e-06\u001b[0m\n",
      "\u001b[32m[2021-06-29 21:25:09,641] [    INFO]\u001b[0m - global step 8400, epoch: 13, batch: 496, loss: 1.228561, speed: 1.20 step/s, lr: 4.971e-06\u001b[0m\n",
      "\u001b[32m[2021-06-29 21:26:34,832] [    INFO]\u001b[0m - global step 8500, epoch: 13, batch: 596, loss: 1.623060, speed: 1.17 step/s, lr: 4.898e-06\u001b[0m\n",
      "\u001b[32m[2021-06-29 21:26:35,375] [    INFO]\u001b[0m - Evaluating...\u001b[0m\n",
      "100%|███████████████████████████████████████████| 68/68 [13:42<00:00, 12.10s/it]\n",
      "\u001b[32m[2021-06-29 21:40:17,906] [    INFO]\u001b[0m - Rouge-1: 12.47011 ,Rouge-2: 1.21212 ,Rouge-L: 12.79673, score: 9.25602\u001b[0m\n",
      "epoch:  14\n",
      "\u001b[32m[2021-06-29 21:41:36,760] [    INFO]\u001b[0m - global step 8600, epoch: 14, batch: 88, loss: 1.251971, speed: 0.11 step/s, lr: 4.825e-06\u001b[0m\n",
      "\u001b[32m[2021-06-29 21:42:57,747] [    INFO]\u001b[0m - global step 8700, epoch: 14, batch: 188, loss: 1.440066, speed: 1.23 step/s, lr: 4.752e-06\u001b[0m\n",
      "\u001b[32m[2021-06-29 21:44:22,836] [    INFO]\u001b[0m - global step 8800, epoch: 14, batch: 288, loss: 1.471923, speed: 1.18 step/s, lr: 4.679e-06\u001b[0m\n",
      "\u001b[32m[2021-06-29 21:45:49,323] [    INFO]\u001b[0m - global step 8900, epoch: 14, batch: 388, loss: 0.882156, speed: 1.16 step/s, lr: 4.606e-06\u001b[0m\n",
      "\u001b[32m[2021-06-29 21:47:13,988] [    INFO]\u001b[0m - global step 9000, epoch: 14, batch: 488, loss: 1.878823, speed: 1.18 step/s, lr: 4.533e-06\u001b[0m\n",
      "\u001b[32m[2021-06-29 21:47:14,294] [    INFO]\u001b[0m - Evaluating...\u001b[0m\n",
      "100%|███████████████████████████████████████████| 68/68 [14:32<00:00, 12.84s/it]\n",
      "\u001b[32m[2021-06-29 22:01:47,259] [    INFO]\u001b[0m - Rouge-1: 14.00794 ,Rouge-2: 1.14286 ,Rouge-L: 12.89739, score: 9.59314\u001b[0m\n",
      "\u001b[32m[2021-06-29 22:03:08,453] [    INFO]\u001b[0m - global step 9100, epoch: 14, batch: 588, loss: 1.170896, speed: 0.10 step/s, lr: 4.460e-06\u001b[0m\n",
      "epoch:  15\n",
      "\u001b[32m[2021-06-29 22:04:30,384] [    INFO]\u001b[0m - global step 9200, epoch: 15, batch: 80, loss: 1.775435, speed: 1.22 step/s, lr: 4.387e-06\u001b[0m\n",
      "\u001b[32m[2021-06-29 22:05:52,633] [    INFO]\u001b[0m - global step 9300, epoch: 15, batch: 180, loss: 1.258219, speed: 1.22 step/s, lr: 4.314e-06\u001b[0m\n",
      "\u001b[32m[2021-06-29 22:07:14,993] [    INFO]\u001b[0m - global step 9400, epoch: 15, batch: 280, loss: 1.238572, speed: 1.21 step/s, lr: 4.240e-06\u001b[0m\n",
      "\u001b[32m[2021-06-29 22:08:37,676] [    INFO]\u001b[0m - global step 9500, epoch: 15, batch: 380, loss: 1.683782, speed: 1.21 step/s, lr: 4.167e-06\u001b[0m\n",
      "\u001b[32m[2021-06-29 22:08:38,278] [    INFO]\u001b[0m - Evaluating...\u001b[0m\n",
      "100%|███████████████████████████████████████████| 68/68 [13:08<00:00, 11.60s/it]\n",
      "\u001b[32m[2021-06-29 22:21:46,864] [    INFO]\u001b[0m - Rouge-1: 7.24917 ,Rouge-2: 0.00000 ,Rouge-L: 10.90413, score: 6.90190\u001b[0m\n",
      "\u001b[32m[2021-06-29 22:23:06,123] [    INFO]\u001b[0m - global step 9600, epoch: 15, batch: 480, loss: 1.975883, speed: 0.12 step/s, lr: 4.094e-06\u001b[0m\n",
      "\u001b[32m[2021-06-29 22:24:30,754] [    INFO]\u001b[0m - global step 9700, epoch: 15, batch: 580, loss: 1.432014, speed: 1.18 step/s, lr: 4.021e-06\u001b[0m\n",
      "epoch:  16\n",
      "\u001b[32m[2021-06-29 22:25:53,696] [    INFO]\u001b[0m - global step 9800, epoch: 16, batch: 72, loss: 1.814681, speed: 1.21 step/s, lr: 3.948e-06\u001b[0m\n",
      "\u001b[32m[2021-06-29 22:27:21,084] [    INFO]\u001b[0m - global step 9900, epoch: 16, batch: 172, loss: 1.311591, speed: 1.14 step/s, lr: 3.875e-06\u001b[0m\n",
      "\u001b[32m[2021-06-29 22:28:40,821] [    INFO]\u001b[0m - global step 10000, epoch: 16, batch: 272, loss: 2.044446, speed: 1.25 step/s, lr: 3.802e-06\u001b[0m\n",
      "\u001b[32m[2021-06-29 22:28:41,457] [    INFO]\u001b[0m - Evaluating...\u001b[0m\n",
      "100%|███████████████████████████████████████████| 68/68 [13:32<00:00, 11.95s/it]\n",
      "\u001b[32m[2021-06-29 22:42:13,885] [    INFO]\u001b[0m - Rouge-1: 13.78604 ,Rouge-2: 1.23077 ,Rouge-L: 11.45701, score: 8.85494\u001b[0m\n",
      "\u001b[32m[2021-06-29 22:43:32,341] [    INFO]\u001b[0m - global step 10100, epoch: 16, batch: 372, loss: 1.787099, speed: 0.11 step/s, lr: 3.729e-06\u001b[0m\n",
      "\u001b[32m[2021-06-29 22:44:55,806] [    INFO]\u001b[0m - global step 10200, epoch: 16, batch: 472, loss: 1.448426, speed: 1.20 step/s, lr: 3.656e-06\u001b[0m\n",
      "\u001b[32m[2021-06-29 22:46:18,448] [    INFO]\u001b[0m - global step 10300, epoch: 16, batch: 572, loss: 1.520993, speed: 1.21 step/s, lr: 3.583e-06\u001b[0m\n",
      "epoch:  17\n",
      "\u001b[32m[2021-06-29 22:47:42,402] [    INFO]\u001b[0m - global step 10400, epoch: 17, batch: 64, loss: 1.473479, speed: 1.19 step/s, lr: 3.510e-06\u001b[0m\n",
      "\u001b[32m[2021-06-29 22:49:05,331] [    INFO]\u001b[0m - global step 10500, epoch: 17, batch: 164, loss: 1.259595, speed: 1.21 step/s, lr: 3.436e-06\u001b[0m\n",
      "\u001b[32m[2021-06-29 22:49:05,924] [    INFO]\u001b[0m - Evaluating...\u001b[0m\n",
      "100%|███████████████████████████████████████████| 68/68 [14:25<00:00, 12.73s/it]\n",
      "\u001b[32m[2021-06-29 23:03:31,781] [    INFO]\u001b[0m - Rouge-1: 13.92987 ,Rouge-2: 2.27016 ,Rouge-L: 14.52858, score: 10.73131\u001b[0m\n",
      "\u001b[32m[2021-06-29 23:04:53,893] [    INFO]\u001b[0m - global step 10600, epoch: 17, batch: 264, loss: 1.597239, speed: 0.11 step/s, lr: 3.363e-06\u001b[0m\n",
      "\u001b[32m[2021-06-29 23:06:16,330] [    INFO]\u001b[0m - global step 10700, epoch: 17, batch: 364, loss: 1.429649, speed: 1.21 step/s, lr: 3.290e-06\u001b[0m\n",
      "\u001b[32m[2021-06-29 23:07:40,217] [    INFO]\u001b[0m - global step 10800, epoch: 17, batch: 464, loss: 1.503427, speed: 1.19 step/s, lr: 3.217e-06\u001b[0m\n",
      "\u001b[32m[2021-06-29 23:09:02,226] [    INFO]\u001b[0m - global step 10900, epoch: 17, batch: 564, loss: 1.621964, speed: 1.22 step/s, lr: 3.144e-06\u001b[0m\n",
      "epoch:  18\n",
      "\u001b[32m[2021-06-29 23:10:23,319] [    INFO]\u001b[0m - global step 11000, epoch: 18, batch: 56, loss: 1.387671, speed: 1.23 step/s, lr: 3.071e-06\u001b[0m\n",
      "\u001b[32m[2021-06-29 23:10:23,850] [    INFO]\u001b[0m - Evaluating...\u001b[0m\n",
      "100%|███████████████████████████████████████████| 68/68 [12:49<00:00, 11.32s/it]\n",
      "\u001b[32m[2021-06-29 23:23:13,388] [    INFO]\u001b[0m - Rouge-1: 8.42387 ,Rouge-2: 0.00000 ,Rouge-L: 11.84512, score: 7.60733\u001b[0m\n",
      "\u001b[32m[2021-06-29 23:24:34,396] [    INFO]\u001b[0m - global step 11100, epoch: 18, batch: 156, loss: 1.690541, speed: 0.12 step/s, lr: 2.998e-06\u001b[0m\n",
      "\u001b[32m[2021-06-29 23:25:56,921] [    INFO]\u001b[0m - global step 11200, epoch: 18, batch: 256, loss: 1.549235, speed: 1.21 step/s, lr: 2.925e-06\u001b[0m\n",
      "\u001b[32m[2021-06-29 23:27:20,375] [    INFO]\u001b[0m - global step 11300, epoch: 18, batch: 356, loss: 1.329359, speed: 1.20 step/s, lr: 2.852e-06\u001b[0m\n",
      "\u001b[32m[2021-06-29 23:28:43,409] [    INFO]\u001b[0m - global step 11400, epoch: 18, batch: 456, loss: 1.659913, speed: 1.20 step/s, lr: 2.779e-06\u001b[0m\n",
      "\u001b[32m[2021-06-29 23:30:05,092] [    INFO]\u001b[0m - global step 11500, epoch: 18, batch: 556, loss: 1.280282, speed: 1.22 step/s, lr: 2.705e-06\u001b[0m\n",
      "\u001b[32m[2021-06-29 23:30:05,698] [    INFO]\u001b[0m - Evaluating...\u001b[0m\n",
      "100%|███████████████████████████████████████████| 68/68 [12:53<00:00, 11.38s/it]\n",
      "\u001b[32m[2021-06-29 23:42:59,547] [    INFO]\u001b[0m - Rouge-1: 17.12647 ,Rouge-2: 1.92717 ,Rouge-L: 16.30848, score: 12.15769\u001b[0m\n",
      "epoch:  19\n",
      "\u001b[32m[2021-06-29 23:44:25,935] [    INFO]\u001b[0m - global step 11600, epoch: 19, batch: 48, loss: 1.203208, speed: 0.12 step/s, lr: 2.632e-06\u001b[0m\n",
      "\u001b[32m[2021-06-29 23:45:45,355] [    INFO]\u001b[0m - global step 11700, epoch: 19, batch: 148, loss: 1.412889, speed: 1.26 step/s, lr: 2.559e-06\u001b[0m\n",
      "\u001b[32m[2021-06-29 23:47:07,023] [    INFO]\u001b[0m - global step 11800, epoch: 19, batch: 248, loss: 0.976777, speed: 1.22 step/s, lr: 2.486e-06\u001b[0m\n",
      "\u001b[32m[2021-06-29 23:48:28,823] [    INFO]\u001b[0m - global step 11900, epoch: 19, batch: 348, loss: 1.629926, speed: 1.22 step/s, lr: 2.413e-06\u001b[0m\n",
      "\u001b[32m[2021-06-29 23:49:50,326] [    INFO]\u001b[0m - global step 12000, epoch: 19, batch: 448, loss: 1.441194, speed: 1.23 step/s, lr: 2.340e-06\u001b[0m\n",
      "\u001b[32m[2021-06-29 23:49:50,878] [    INFO]\u001b[0m - Evaluating...\u001b[0m\n",
      "100%|███████████████████████████████████████████| 68/68 [12:59<00:00, 11.46s/it]\n",
      "\u001b[32m[2021-06-30 00:02:50,425] [    INFO]\u001b[0m - Rouge-1: 17.83061 ,Rouge-2: 3.47970 ,Rouge-L: 16.79727, score: 13.00867\u001b[0m\n",
      "\u001b[32m[2021-06-30 00:04:13,366] [    INFO]\u001b[0m - global step 12100, epoch: 19, batch: 548, loss: 1.367493, speed: 0.12 step/s, lr: 2.267e-06\u001b[0m\n",
      "epoch:  20\n",
      "\u001b[32m[2021-06-30 00:05:35,623] [    INFO]\u001b[0m - global step 12200, epoch: 20, batch: 40, loss: 1.476383, speed: 1.22 step/s, lr: 2.194e-06\u001b[0m\n",
      "\u001b[32m[2021-06-30 00:06:56,718] [    INFO]\u001b[0m - global step 12300, epoch: 20, batch: 140, loss: 1.074593, speed: 1.23 step/s, lr: 2.121e-06\u001b[0m\n",
      "\u001b[32m[2021-06-30 00:08:20,264] [    INFO]\u001b[0m - global step 12400, epoch: 20, batch: 240, loss: 1.455863, speed: 1.20 step/s, lr: 2.048e-06\u001b[0m\n",
      "\u001b[32m[2021-06-30 00:09:44,252] [    INFO]\u001b[0m - global step 12500, epoch: 20, batch: 340, loss: 1.745973, speed: 1.19 step/s, lr: 1.974e-06\u001b[0m\n",
      "\u001b[32m[2021-06-30 00:09:44,622] [    INFO]\u001b[0m - Evaluating...\u001b[0m\n",
      "100%|███████████████████████████████████████████| 68/68 [13:07<00:00, 11.58s/it]\n",
      "\u001b[32m[2021-06-30 00:22:52,174] [    INFO]\u001b[0m - Rouge-1: 7.31602 ,Rouge-2: 0.00000 ,Rouge-L: 10.52910, score: 6.72775\u001b[0m\n",
      "\u001b[32m[2021-06-30 00:24:17,543] [    INFO]\u001b[0m - global step 12600, epoch: 20, batch: 440, loss: 1.692974, speed: 0.11 step/s, lr: 1.901e-06\u001b[0m\n",
      "\u001b[32m[2021-06-30 00:25:39,050] [    INFO]\u001b[0m - global step 12700, epoch: 20, batch: 540, loss: 2.131498, speed: 1.23 step/s, lr: 1.828e-06\u001b[0m\n",
      "epoch:  21\n",
      "\u001b[32m[2021-06-30 00:26:59,707] [    INFO]\u001b[0m - global step 12800, epoch: 21, batch: 32, loss: 1.597272, speed: 1.24 step/s, lr: 1.755e-06\u001b[0m\n",
      "\u001b[32m[2021-06-30 00:28:24,288] [    INFO]\u001b[0m - global step 12900, epoch: 21, batch: 132, loss: 1.418056, speed: 1.18 step/s, lr: 1.682e-06\u001b[0m\n",
      "\u001b[32m[2021-06-30 00:29:47,562] [    INFO]\u001b[0m - global step 13000, epoch: 21, batch: 232, loss: 1.141045, speed: 1.20 step/s, lr: 1.609e-06\u001b[0m\n",
      "\u001b[32m[2021-06-30 00:29:48,137] [    INFO]\u001b[0m - Evaluating...\u001b[0m\n",
      "100%|███████████████████████████████████████████| 68/68 [13:42<00:00, 12.10s/it]\n",
      "\u001b[32m[2021-06-30 00:43:30,700] [    INFO]\u001b[0m - Rouge-1: 7.27032 ,Rouge-2: 0.00000 ,Rouge-L: 10.63300, score: 6.77056\u001b[0m\n",
      "\u001b[32m[2021-06-30 00:44:53,101] [    INFO]\u001b[0m - global step 13100, epoch: 21, batch: 332, loss: 1.305476, speed: 0.11 step/s, lr: 1.536e-06\u001b[0m\n",
      "\u001b[32m[2021-06-30 00:46:13,743] [    INFO]\u001b[0m - global step 13200, epoch: 21, batch: 432, loss: 1.536080, speed: 1.24 step/s, lr: 1.463e-06\u001b[0m\n",
      "\u001b[32m[2021-06-30 00:47:37,962] [    INFO]\u001b[0m - global step 13300, epoch: 21, batch: 532, loss: 1.195291, speed: 1.19 step/s, lr: 1.390e-06\u001b[0m\n",
      "epoch:  22\n",
      "\u001b[32m[2021-06-30 00:49:03,367] [    INFO]\u001b[0m - global step 13400, epoch: 22, batch: 24, loss: 1.438745, speed: 1.17 step/s, lr: 1.317e-06\u001b[0m\n",
      "\u001b[32m[2021-06-30 00:50:22,384] [    INFO]\u001b[0m - global step 13500, epoch: 22, batch: 124, loss: 0.862493, speed: 1.27 step/s, lr: 1.243e-06\u001b[0m\n",
      "\u001b[32m[2021-06-30 00:50:23,025] [    INFO]\u001b[0m - Evaluating...\u001b[0m\n",
      "100%|███████████████████████████████████████████| 68/68 [13:15<00:00, 11.70s/it]\n",
      "\u001b[32m[2021-06-30 01:03:38,562] [    INFO]\u001b[0m - Rouge-1: 15.96606 ,Rouge-2: 3.08914 ,Rouge-L: 21.60679, score: 14.92335\u001b[0m\n",
      "\u001b[32m[2021-06-30 01:05:00,616] [    INFO]\u001b[0m - global step 13600, epoch: 22, batch: 224, loss: 1.470333, speed: 0.11 step/s, lr: 1.170e-06\u001b[0m\n",
      "\u001b[32m[2021-06-30 01:06:21,409] [    INFO]\u001b[0m - global step 13700, epoch: 22, batch: 324, loss: 0.872344, speed: 1.24 step/s, lr: 1.097e-06\u001b[0m\n",
      "\u001b[32m[2021-06-30 01:07:46,147] [    INFO]\u001b[0m - global step 13800, epoch: 22, batch: 424, loss: 1.444510, speed: 1.18 step/s, lr: 1.024e-06\u001b[0m\n",
      "\u001b[32m[2021-06-30 01:09:09,078] [    INFO]\u001b[0m - global step 13900, epoch: 22, batch: 524, loss: 1.410602, speed: 1.21 step/s, lr: 9.510e-07\u001b[0m\n",
      "epoch:  23\n",
      "\u001b[32m[2021-06-30 01:10:30,969] [    INFO]\u001b[0m - global step 14000, epoch: 23, batch: 16, loss: 1.162493, speed: 1.22 step/s, lr: 8.779e-07\u001b[0m\n",
      "\u001b[32m[2021-06-30 01:10:31,582] [    INFO]\u001b[0m - Evaluating...\u001b[0m\n",
      "100%|███████████████████████████████████████████| 68/68 [13:06<00:00, 11.57s/it]\n",
      "\u001b[32m[2021-06-30 01:23:38,113] [    INFO]\u001b[0m - Rouge-1: 12.24960 ,Rouge-2: 0.00000 ,Rouge-L: 14.28868, score: 9.59426\u001b[0m\n",
      "\u001b[32m[2021-06-30 01:24:59,163] [    INFO]\u001b[0m - global step 14100, epoch: 23, batch: 116, loss: 1.798514, speed: 0.12 step/s, lr: 8.048e-07\u001b[0m\n",
      "\u001b[32m[2021-06-30 01:26:23,012] [    INFO]\u001b[0m - global step 14200, epoch: 23, batch: 216, loss: 0.964487, speed: 1.19 step/s, lr: 7.317e-07\u001b[0m\n",
      "\u001b[32m[2021-06-30 01:27:45,478] [    INFO]\u001b[0m - global step 14300, epoch: 23, batch: 316, loss: 1.467793, speed: 1.21 step/s, lr: 6.586e-07\u001b[0m\n",
      "\u001b[32m[2021-06-30 01:29:10,177] [    INFO]\u001b[0m - global step 14400, epoch: 23, batch: 416, loss: 1.736329, speed: 1.18 step/s, lr: 5.855e-07\u001b[0m\n",
      "\u001b[32m[2021-06-30 01:30:33,946] [    INFO]\u001b[0m - global step 14500, epoch: 23, batch: 516, loss: 1.308733, speed: 1.19 step/s, lr: 5.124e-07\u001b[0m\n",
      "\u001b[32m[2021-06-30 01:30:34,678] [    INFO]\u001b[0m - Evaluating...\u001b[0m\n",
      "100%|███████████████████████████████████████████| 68/68 [13:41<00:00, 12.09s/it]\n",
      "\u001b[32m[2021-06-30 01:44:16,503] [    INFO]\u001b[0m - Rouge-1: 8.33093 ,Rouge-2: 0.00000 ,Rouge-L: 11.93170, score: 7.63203\u001b[0m\n",
      "epoch:  24\n",
      "\u001b[32m[2021-06-30 01:45:37,619] [    INFO]\u001b[0m - global step 14600, epoch: 24, batch: 8, loss: 1.627883, speed: 0.11 step/s, lr: 4.393e-07\u001b[0m\n",
      "\u001b[32m[2021-06-30 01:46:57,764] [    INFO]\u001b[0m - global step 14700, epoch: 24, batch: 108, loss: 1.152372, speed: 1.25 step/s, lr: 3.662e-07\u001b[0m\n",
      "\u001b[32m[2021-06-30 01:48:22,687] [    INFO]\u001b[0m - global step 14800, epoch: 24, batch: 208, loss: 1.050536, speed: 1.18 step/s, lr: 2.931e-07\u001b[0m\n",
      "\u001b[32m[2021-06-30 01:49:43,503] [    INFO]\u001b[0m - global step 14900, epoch: 24, batch: 308, loss: 1.518995, speed: 1.24 step/s, lr: 2.200e-07\u001b[0m\n",
      "\u001b[32m[2021-06-30 01:51:05,191] [    INFO]\u001b[0m - global step 15000, epoch: 24, batch: 408, loss: 1.172987, speed: 1.22 step/s, lr: 1.469e-07\u001b[0m\n",
      "\u001b[32m[2021-06-30 01:51:05,673] [    INFO]\u001b[0m - Evaluating...\u001b[0m\n",
      "100%|███████████████████████████████████████████| 68/68 [13:35<00:00, 12.00s/it]\n",
      "\u001b[32m[2021-06-30 02:04:41,379] [    INFO]\u001b[0m - Rouge-1: 11.11881 ,Rouge-2: 0.00000 ,Rouge-L: 11.52519, score: 7.98636\u001b[0m\n",
      "\u001b[32m[2021-06-30 02:06:00,923] [    INFO]\u001b[0m - global step 15100, epoch: 24, batch: 508, loss: 1.175966, speed: 0.11 step/s, lr: 7.383e-08\u001b[0m\n",
      "\u001b[32m[2021-06-30 02:07:26,477] [    INFO]\u001b[0m - global step 15200, epoch: 24, batch: 608, loss: 1.390372, speed: 1.17 step/s, lr: 7.310e-10\u001b[0m\n",
      "\u001b[0m"
     ]
    }
   ],
   "source": [
    "#evalate太慢了....\r\n",
    "%cd /home/aistudio/PaddleNLP/examples/text_generation/ernie-gen\r\n",
    "!python -u ./train.py --model_name_or_path ernie-1.0 --max_encode_len 256 --max_decode_len 256 --batch_size 24  --learning_rate 1e-5 --num_epochs 25 --logging_steps 100 --save_steps 500 --output_dir ./tmp/ "
   ]
  },
  {
   "cell_type": "markdown",
   "metadata": {
    "collapsed": false
   },
   "source": [
    "# 生成B榜的数据\n",
    "\n",
    "```\n",
    "!unzip test_B.zip -d work/\n",
    "\n",
    "cd work/ && python create_pair_b.py\n",
    "```\n",
    "\n"
   ]
  },
  {
   "cell_type": "code",
   "execution_count": 36,
   "metadata": {
    "collapsed": false
   },
   "outputs": [
    {
     "name": "stdout",
     "output_type": "stream",
     "text": [
      "/home/aistudio/PaddleNLP/examples/text_generation/ernie-gen\n",
      "\u001b[32m[2021-06-30 11:16:16,028] [    INFO]\u001b[0m - Already cached /home/aistudio/.paddlenlp/models/ernie-1.0/ernie_v1_chn_base.pdparams\u001b[0m\n",
      "\u001b[35m[2021-06-30 11:16:16,028] [   DEBUG]\u001b[0m - init ErnieModel with config: {'attention_probs_dropout_prob': 0.1, 'hidden_act': 'relu', 'hidden_dropout_prob': 0.1, 'hidden_size': 768, 'initializer_range': 0.02, 'max_position_embeddings': 513, 'num_attention_heads': 12, 'num_hidden_layers': 12, 'type_vocab_size': 2, 'vocab_size': 18000, 'pad_token_id': 0}\u001b[0m\n",
      "W0630 11:16:16.029894 23416 device_context.cc:404] Please NOTE: device: 0, GPU Compute Capability: 7.0, Driver API Version: 10.1, Runtime API Version: 10.1\n",
      "W0630 11:16:16.035666 23416 device_context.cc:422] device: 0, cuDNN Version: 7.6.\n",
      "\u001b[32m[2021-06-30 11:16:21,430] [    INFO]\u001b[0m - loading pretrained model from /home/aistudio/.paddlenlp/models/ernie-1.0/ernie_v1_chn_base.pdparams\u001b[0m\n",
      "\u001b[32m[2021-06-30 11:16:22,216] [    INFO]\u001b[0m - param:mlm_bias not set in pretrained model, skip\u001b[0m\n",
      "\u001b[32m[2021-06-30 11:16:22,217] [    INFO]\u001b[0m - param:mlm.weight not set in pretrained model, skip\u001b[0m\n",
      "\u001b[32m[2021-06-30 11:16:22,217] [    INFO]\u001b[0m - param:mlm.bias not set in pretrained model, skip\u001b[0m\n",
      "\u001b[32m[2021-06-30 11:16:22,217] [    INFO]\u001b[0m - param:mlm_ln.weight not set in pretrained model, skip\u001b[0m\n",
      "\u001b[32m[2021-06-30 11:16:22,217] [    INFO]\u001b[0m - param:mlm_ln.bias not set in pretrained model, skip\u001b[0m\n",
      "\u001b[32m[2021-06-30 11:16:22,538] [    INFO]\u001b[0m - Found /home/aistudio/.paddlenlp/models/ernie-1.0/vocab.txt\u001b[0m\n",
      "dataset done.....\n",
      "\u001b[32m[2021-06-30 11:16:26,022] [    INFO]\u001b[0m - Predicting...\u001b[0m\n"
     ]
    }
   ],
   "source": [
    "%cd /home/aistudio/PaddleNLP/examples/text_generation/ernie-gen\n",
    "!python -u ./predict.py \\\n",
    "    --model_name_or_path ernie-1.0 \\\n",
    "    --max_encode_len 256 \\\n",
    "    --max_decode_len 256 \\\n",
    "    --batch_size 64   \\\n",
    "    --init_checkpoint /home/aistudio/PaddleNLP/examples/text_generation/ernie-gen/tmp/best_model/model_state.pdparams \\\n",
    "    --device gpu"
   ]
  },
  {
   "cell_type": "markdown",
   "metadata": {
    "collapsed": false
   },
   "source": [
    "# 生成结果文件并提交\n",
    "\n",
    "最终测评结果不太理想。"
   ]
  },
  {
   "cell_type": "code",
   "execution_count": null,
   "metadata": {
    "collapsed": false
   },
   "outputs": [],
   "source": [
    "# # !pip install paddle2onnx\r\n",
    "# # !pip install paddlehub==2.0.4\r\n",
    "# # !pip install -q paddle-ernie==0.0.4.dev1\r\n",
    "\r\n",
    "# #这部分始终有问题\r\n",
    "# try:\r\n",
    "#     import paddlehub as hub\r\n",
    "#     module = hub.Module(name=\"ernie_gen\")\r\n",
    "# except:\r\n",
    "#     print(\"start fixing...\")\r\n",
    "#     #替换出bug的版本检测\r\n",
    "#     !rm -f ~/.paddlehub/modules/ernie_gen/propeller/paddle/__init__.py\r\n",
    "#     !cp -rf /home/aistudio/fix_ernie/__init__.py ~/.paddlehub/modules/ernie_gen/propeller/paddle\r\n",
    "#     #只能0.0.4成功了后再装0.1.0 erine\r\n",
    "#     !pip install paddle-ernie -U\r\n",
    "\r\n",
    "#     import paddlehub as hub\r\n",
    "#     module = hub.Module(name=\"ernie_gen\")"
   ]
  },
  {
   "cell_type": "code",
   "execution_count": null,
   "metadata": {
    "collapsed": false
   },
   "outputs": [],
   "source": [
    "# !pip install paddle-ernie==0.0.4.dev1\r\n",
    "# !pip install  paddlehub==1.8.0 -i https://pypi.tuna.tsinghua.edu.cn/simple"
   ]
  },
  {
   "cell_type": "code",
   "execution_count": null,
   "metadata": {
    "collapsed": false
   },
   "outputs": [],
   "source": [
    "# #安装hub， ernie, 参考https://aistudio.baidu.com/aistudio/projectdetail/1881775\r\n",
    "# import paddlehub as hub\r\n",
    "# module = hub.Module(name=\"ernie_gen\")\r\n",
    "# result = module.finetune(\r\n",
    "#     train_path='/home/aistudio/work/train.txt',\r\n",
    "#     dev_path='/home/aistudio/work/test.txt',\r\n",
    "#     save_dir=\"ernie_gen_ch_med\",\r\n",
    "#     max_steps=40000,\r\n",
    "#     max_encode_len=512,\r\n",
    "#     max_decode_len=512,\r\n",
    "#     noise_prob=0.1,\r\n",
    "#     batch_size=24,\r\n",
    "#     log_interval=50,\r\n",
    "#     save_interval=2000\r\n",
    "# )"
   ]
  },
  {
   "cell_type": "code",
   "execution_count": null,
   "metadata": {
    "collapsed": false
   },
   "outputs": [
    {
     "name": "stderr",
     "output_type": "stream",
     "text": [
      "[2021-05-16 21:13:45,447] [ WARNING] - The _initialize method in HubModule will soon be deprecated, you can use the __init__() to handle the initialization of the object\n",
      "2021-05-16 21:13:45,496 - INFO - get pretrain dir from https://ernie-github.cdn.bcebos.com/model-ernie1.0.1.tar.gz\n",
      "[INFO 2021-05-16 21:13:45,496 tokenizing_ernie.py:100] get pretrain dir from https://ernie-github.cdn.bcebos.com/model-ernie1.0.1.tar.gz\n"
     ]
    }
   ],
   "source": [
    "import paddlehub as hub\r\n",
    "module = hub.Module(name=\"ernie_gen\")"
   ]
  },
  {
   "cell_type": "markdown",
   "metadata": {
    "collapsed": false
   },
   "source": [
    "请点击[此处](https://ai.baidu.com/docs#/AIStudio_Project_Notebook/a38e5576)查看本环境基本用法.  <br>\n",
    "Please click [here ](https://ai.baidu.com/docs#/AIStudio_Project_Notebook/a38e5576) for more detailed instructions. "
   ]
  }
 ],
 "metadata": {
  "kernelspec": {
   "display_name": "PaddlePaddle 2.1.0 (Python 3.5)",
   "language": "python",
   "name": "py35-paddle1.2.0"
  },
  "language_info": {
   "codemirror_mode": {
    "name": "ipython",
    "version": 3
   },
   "file_extension": ".py",
   "mimetype": "text/x-python",
   "name": "python",
   "nbconvert_exporter": "python",
   "pygments_lexer": "ipython3",
   "version": "3.7.4"
  }
 },
 "nbformat": 4,
 "nbformat_minor": 1
}
