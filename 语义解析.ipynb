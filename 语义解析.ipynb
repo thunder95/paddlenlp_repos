{
 "cells": [
  {
   "cell_type": "code",
   "execution_count": null,
   "metadata": {
    "collapsed": false
   },
   "outputs": [
    {
     "name": "stdout",
     "output_type": "stream",
     "text": [
      "unzip:  cannot find or open Text2SQL-BASELINE.zip, Text2SQL-BASELINE.zip.zip or Text2SQL-BASELINE.zip.ZIP.\r\n"
     ]
    }
   ],
   "source": [
    "!unzip Text2SQL-BASELINE.zip"
   ]
  },
  {
   "cell_type": "code",
   "execution_count": null,
   "metadata": {
    "collapsed": false
   },
   "outputs": [
    {
     "name": "stdout",
     "output_type": "stream",
     "text": [
      "/home/aistudio/Research/NLP/Text2SQL-BASELINE\n",
      "Looking in indexes: https://mirror.baidu.com/pypi/simple/\n",
      "Requirement already satisfied: paddlepaddle-gpu>=2.0.0 in /opt/conda/envs/python35-paddle120-env/lib/python3.7/site-packages (from -r requirements.txt (line 2)) (2.1.0.post101)\n",
      "Requirement already satisfied: paddlenlp in /opt/conda/envs/python35-paddle120-env/lib/python3.7/site-packages (from -r requirements.txt (line 3)) (2.0.1)\n",
      "Collecting nvgpu (from -r requirements.txt (line 4))\n",
      "  Downloading https://mirror.baidu.com/pypi/packages/9f/1f/1543808105e377bb154ff61c2623cdf76a330b983b22c285a14d03e7431b/nvgpu-0.9.0-py2.py3-none-any.whl\n",
      "Requirement already satisfied: tqdm in /opt/conda/envs/python35-paddle120-env/lib/python3.7/site-packages (from -r requirements.txt (line 5)) (4.36.1)\n",
      "Collecting LAC (from -r requirements.txt (line 6))\n",
      "\u001b[?25l  Downloading https://mirror.baidu.com/pypi/packages/c3/88/966e99c95cac93730a7f3cdf92a17e2a0e924bea61b9a86ae7995feaa4fe/LAC-2.1.2.tar.gz (64.8MB)\n",
      "\u001b[K     |████████████████████████████████| 64.8MB 7.7MB/s eta 0:00:014     |█████████████████████████████   | 58.7MB 6.8MB/s eta 0:00:01\n",
      "\u001b[?25hCollecting cn2an (from -r requirements.txt (line 7))\n",
      "  Downloading https://mirror.baidu.com/pypi/packages/33/bf/085410d2d25d4c3c37e47a7b7ac89682a22ffeb0018b80a562b2b1dae78d/cn2an-0.5.11-py3-none-any.whl\n",
      "Collecting setproctitle (from -r requirements.txt (line 8))\n",
      "  Downloading https://mirror.baidu.com/pypi/packages/97/5c/16a6e69febfbee3f1a1a8c4318d1f054ff4d3ef2a61b233937c316cba06d/setproctitle-1.2.2-cp37-cp37m-manylinux1_x86_64.whl\n",
      "Requirement already satisfied: sentencepiece in /opt/conda/envs/python35-paddle120-env/lib/python3.7/site-packages (from -r requirements.txt (line 9)) (0.1.85)\n",
      "Requirement already satisfied: attrs in /opt/conda/envs/python35-paddle120-env/lib/python3.7/site-packages (from -r requirements.txt (line 10)) (19.2.0)\n",
      "Collecting asdl (from -r requirements.txt (line 11))\n",
      "  Downloading https://mirror.baidu.com/pypi/packages/76/5d/c8db2502e56ba60ccab83f60d19dffa418dd0a289dfd6e00a402864ef2b3/asdl-0.1.5.tar.gz\n",
      "Requirement already satisfied: networkx in /opt/conda/envs/python35-paddle120-env/lib/python3.7/site-packages (from -r requirements.txt (line 12)) (2.4)\n",
      "Requirement already satisfied: pyrsistent in /opt/conda/envs/python35-paddle120-env/lib/python3.7/site-packages (from -r requirements.txt (line 13)) (0.15.4)\n",
      "Collecting jsonnet (from -r requirements.txt (line 14))\n",
      "\u001b[?25l  Downloading https://mirror.baidu.com/pypi/packages/42/40/6f16e5ac994b16fa71c24310f97174ce07d3a97b433275589265c6b94d2b/jsonnet-0.17.0.tar.gz (259kB)\n",
      "\u001b[K     |████████████████████████████████| 266kB 58.1MB/s eta 0:00:01\n",
      "\u001b[?25hRequirement already satisfied: Pillow in /opt/conda/envs/python35-paddle120-env/lib/python3.7/site-packages (from paddlepaddle-gpu>=2.0.0->-r requirements.txt (line 2)) (7.1.2)\n",
      "Requirement already satisfied: protobuf>=3.1.0 in /opt/conda/envs/python35-paddle120-env/lib/python3.7/site-packages (from paddlepaddle-gpu>=2.0.0->-r requirements.txt (line 2)) (3.14.0)\n",
      "Requirement already satisfied: gast>=0.3.3; platform_system != \"Windows\" in /opt/conda/envs/python35-paddle120-env/lib/python3.7/site-packages (from paddlepaddle-gpu>=2.0.0->-r requirements.txt (line 2)) (0.3.3)\n",
      "Requirement already satisfied: astor in /opt/conda/envs/python35-paddle120-env/lib/python3.7/site-packages (from paddlepaddle-gpu>=2.0.0->-r requirements.txt (line 2)) (0.8.1)\n",
      "Requirement already satisfied: six in /opt/conda/envs/python35-paddle120-env/lib/python3.7/site-packages (from paddlepaddle-gpu>=2.0.0->-r requirements.txt (line 2)) (1.15.0)\n",
      "Requirement already satisfied: requests>=2.20.0 in /opt/conda/envs/python35-paddle120-env/lib/python3.7/site-packages (from paddlepaddle-gpu>=2.0.0->-r requirements.txt (line 2)) (2.22.0)\n",
      "Requirement already satisfied: decorator==4.4.2 in /opt/conda/envs/python35-paddle120-env/lib/python3.7/site-packages (from paddlepaddle-gpu>=2.0.0->-r requirements.txt (line 2)) (4.4.2)\n",
      "Requirement already satisfied: numpy>=1.13; python_version >= \"3.5\" and platform_system != \"Windows\" in /opt/conda/envs/python35-paddle120-env/lib/python3.7/site-packages (from paddlepaddle-gpu>=2.0.0->-r requirements.txt (line 2)) (1.20.3)\n",
      "Requirement already satisfied: colorlog in /opt/conda/envs/python35-paddle120-env/lib/python3.7/site-packages (from paddlenlp->-r requirements.txt (line 3)) (4.1.0)\n",
      "Requirement already satisfied: h5py in /opt/conda/envs/python35-paddle120-env/lib/python3.7/site-packages (from paddlenlp->-r requirements.txt (line 3)) (2.9.0)\n",
      "Requirement already satisfied: visualdl in /opt/conda/envs/python35-paddle120-env/lib/python3.7/site-packages (from paddlenlp->-r requirements.txt (line 3)) (2.2.0)\n",
      "Requirement already satisfied: colorama in /opt/conda/envs/python35-paddle120-env/lib/python3.7/site-packages (from paddlenlp->-r requirements.txt (line 3)) (0.4.4)\n",
      "Requirement already satisfied: multiprocess in /opt/conda/envs/python35-paddle120-env/lib/python3.7/site-packages (from paddlenlp->-r requirements.txt (line 3)) (0.70.11.1)\n",
      "Requirement already satisfied: seqeval in /opt/conda/envs/python35-paddle120-env/lib/python3.7/site-packages (from paddlenlp->-r requirements.txt (line 3)) (1.2.2)\n",
      "Requirement already satisfied: jieba in /opt/conda/envs/python35-paddle120-env/lib/python3.7/site-packages (from paddlenlp->-r requirements.txt (line 3)) (0.42.1)\n",
      "Requirement already satisfied: pandas in /opt/conda/envs/python35-paddle120-env/lib/python3.7/site-packages (from nvgpu->-r requirements.txt (line 4)) (1.1.5)\n",
      "Requirement already satisfied: termcolor in /opt/conda/envs/python35-paddle120-env/lib/python3.7/site-packages (from nvgpu->-r requirements.txt (line 4)) (1.1.0)\n",
      "Requirement already satisfied: pynvml; python_version >= \"3.6\" in /opt/conda/envs/python35-paddle120-env/lib/python3.7/site-packages (from nvgpu->-r requirements.txt (line 4)) (8.0.4)\n",
      "Requirement already satisfied: tabulate in /opt/conda/envs/python35-paddle120-env/lib/python3.7/site-packages (from nvgpu->-r requirements.txt (line 4)) (0.8.3)\n",
      "Collecting arrow (from nvgpu->-r requirements.txt (line 4))\n",
      "\u001b[?25l  Downloading https://mirror.baidu.com/pypi/packages/e8/59/4c21f8c501b43e2aabc82ad62e20f3730c273057c56f8731319980dec5ff/arrow-1.1.1-py3-none-any.whl (60kB)\n",
      "\u001b[K     |████████████████████████████████| 61kB 21.0MB/s eta 0:00:01\n",
      "\u001b[?25hCollecting flask-restful (from nvgpu->-r requirements.txt (line 4))\n",
      "  Downloading https://mirror.baidu.com/pypi/packages/a9/02/7e21a73564fe0d9d1a3a4ff478dfc407815c4e2fa4e5121bcfc646ba5d15/Flask_RESTful-0.3.9-py2.py3-none-any.whl\n",
      "Collecting ansi2html (from nvgpu->-r requirements.txt (line 4))\n",
      "  Downloading https://mirror.baidu.com/pypi/packages/c6/85/3a46be84afbb16b392a138cd396117f438c7b2e91d8dc327621d1ae1b5dc/ansi2html-1.6.0-py3-none-any.whl\n",
      "Requirement already satisfied: psutil in /opt/conda/envs/python35-paddle120-env/lib/python3.7/site-packages (from nvgpu->-r requirements.txt (line 4)) (5.7.2)\n",
      "Requirement already satisfied: flask in /opt/conda/envs/python35-paddle120-env/lib/python3.7/site-packages (from nvgpu->-r requirements.txt (line 4)) (1.1.1)\n",
      "Requirement already satisfied: setuptools>=47.3.1 in /opt/conda/envs/python35-paddle120-env/lib/python3.7/site-packages (from cn2an->-r requirements.txt (line 7)) (56.2.0)\n",
      "Collecting PyYAML>=5.3.1 (from cn2an->-r requirements.txt (line 7))\n",
      "\u001b[?25l  Downloading https://mirror.baidu.com/pypi/packages/7a/a5/393c087efdc78091afa2af9f1378762f9821c9c1d7a22c5753fb5ac5f97a/PyYAML-5.4.1-cp37-cp37m-manylinux1_x86_64.whl (636kB)\n",
      "\u001b[K     |████████████████████████████████| 645kB 20.6MB/s eta 0:00:01\n",
      "\u001b[?25hRequirement already satisfied: urllib3!=1.25.0,!=1.25.1,<1.26,>=1.21.1 in /opt/conda/envs/python35-paddle120-env/lib/python3.7/site-packages (from requests>=2.20.0->paddlepaddle-gpu>=2.0.0->-r requirements.txt (line 2)) (1.25.6)\n",
      "Requirement already satisfied: chardet<3.1.0,>=3.0.2 in /opt/conda/envs/python35-paddle120-env/lib/python3.7/site-packages (from requests>=2.20.0->paddlepaddle-gpu>=2.0.0->-r requirements.txt (line 2)) (3.0.4)\n",
      "Requirement already satisfied: certifi>=2017.4.17 in /opt/conda/envs/python35-paddle120-env/lib/python3.7/site-packages (from requests>=2.20.0->paddlepaddle-gpu>=2.0.0->-r requirements.txt (line 2)) (2019.9.11)\n",
      "Requirement already satisfied: idna<2.9,>=2.5 in /opt/conda/envs/python35-paddle120-env/lib/python3.7/site-packages (from requests>=2.20.0->paddlepaddle-gpu>=2.0.0->-r requirements.txt (line 2)) (2.8)\n",
      "Requirement already satisfied: bce-python-sdk in /opt/conda/envs/python35-paddle120-env/lib/python3.7/site-packages (from visualdl->paddlenlp->-r requirements.txt (line 3)) (0.8.53)\n",
      "Requirement already satisfied: shellcheck-py in /opt/conda/envs/python35-paddle120-env/lib/python3.7/site-packages (from visualdl->paddlenlp->-r requirements.txt (line 3)) (0.7.1.1)\n",
      "Requirement already satisfied: flake8>=3.7.9 in /opt/conda/envs/python35-paddle120-env/lib/python3.7/site-packages (from visualdl->paddlenlp->-r requirements.txt (line 3)) (3.8.2)\n",
      "Requirement already satisfied: matplotlib in /opt/conda/envs/python35-paddle120-env/lib/python3.7/site-packages (from visualdl->paddlenlp->-r requirements.txt (line 3)) (2.2.3)\n",
      "Requirement already satisfied: Flask-Babel>=1.0.0 in /opt/conda/envs/python35-paddle120-env/lib/python3.7/site-packages (from visualdl->paddlenlp->-r requirements.txt (line 3)) (1.0.0)\n",
      "Requirement already satisfied: pre-commit in /opt/conda/envs/python35-paddle120-env/lib/python3.7/site-packages (from visualdl->paddlenlp->-r requirements.txt (line 3)) (1.21.0)\n",
      "Requirement already satisfied: dill>=0.3.3 in /opt/conda/envs/python35-paddle120-env/lib/python3.7/site-packages (from multiprocess->paddlenlp->-r requirements.txt (line 3)) (0.3.3)\n",
      "Requirement already satisfied: scikit-learn>=0.21.3 in /opt/conda/envs/python35-paddle120-env/lib/python3.7/site-packages (from seqeval->paddlenlp->-r requirements.txt (line 3)) (0.24.2)\n",
      "Requirement already satisfied: python-dateutil>=2.7.3 in /opt/conda/envs/python35-paddle120-env/lib/python3.7/site-packages (from pandas->nvgpu->-r requirements.txt (line 4)) (2.8.0)\n",
      "Requirement already satisfied: pytz>=2017.2 in /opt/conda/envs/python35-paddle120-env/lib/python3.7/site-packages (from pandas->nvgpu->-r requirements.txt (line 4)) (2019.3)\n",
      "Collecting typing-extensions; python_version < \"3.8\" (from arrow->nvgpu->-r requirements.txt (line 4))\n",
      "  Downloading https://mirror.baidu.com/pypi/packages/2e/35/6c4fff5ab443b57116cb1aad46421fb719bed2825664e8fe77d66d99bcbc/typing_extensions-3.10.0.0-py3-none-any.whl\n",
      "Collecting aniso8601>=0.82 (from flask-restful->nvgpu->-r requirements.txt (line 4))\n",
      "\u001b[?25l  Downloading https://mirror.baidu.com/pypi/packages/e3/04/e97c12dc034791d7b504860acfcdd2963fa21ae61eaca1c9d31245f812c3/aniso8601-9.0.1-py2.py3-none-any.whl (52kB)\n",
      "\u001b[K     |████████████████████████████████| 61kB 14.5MB/s eta 0:00:01\n",
      "\u001b[?25hRequirement already satisfied: Werkzeug>=0.15 in /opt/conda/envs/python35-paddle120-env/lib/python3.7/site-packages (from flask->nvgpu->-r requirements.txt (line 4)) (0.16.0)\n",
      "Requirement already satisfied: click>=5.1 in /opt/conda/envs/python35-paddle120-env/lib/python3.7/site-packages (from flask->nvgpu->-r requirements.txt (line 4)) (7.0)\n",
      "Requirement already satisfied: itsdangerous>=0.24 in /opt/conda/envs/python35-paddle120-env/lib/python3.7/site-packages (from flask->nvgpu->-r requirements.txt (line 4)) (1.1.0)\n",
      "Requirement already satisfied: Jinja2>=2.10.1 in /opt/conda/envs/python35-paddle120-env/lib/python3.7/site-packages (from flask->nvgpu->-r requirements.txt (line 4)) (2.10.1)\n",
      "Requirement already satisfied: pycryptodome>=3.8.0 in /opt/conda/envs/python35-paddle120-env/lib/python3.7/site-packages (from bce-python-sdk->visualdl->paddlenlp->-r requirements.txt (line 3)) (3.9.9)\n",
      "Requirement already satisfied: future>=0.6.0 in /opt/conda/envs/python35-paddle120-env/lib/python3.7/site-packages (from bce-python-sdk->visualdl->paddlenlp->-r requirements.txt (line 3)) (0.18.0)\n",
      "Requirement already satisfied: pycodestyle<2.7.0,>=2.6.0a1 in /opt/conda/envs/python35-paddle120-env/lib/python3.7/site-packages (from flake8>=3.7.9->visualdl->paddlenlp->-r requirements.txt (line 3)) (2.6.0)\n",
      "Requirement already satisfied: mccabe<0.7.0,>=0.6.0 in /opt/conda/envs/python35-paddle120-env/lib/python3.7/site-packages (from flake8>=3.7.9->visualdl->paddlenlp->-r requirements.txt (line 3)) (0.6.1)\n",
      "Requirement already satisfied: pyflakes<2.3.0,>=2.2.0 in /opt/conda/envs/python35-paddle120-env/lib/python3.7/site-packages (from flake8>=3.7.9->visualdl->paddlenlp->-r requirements.txt (line 3)) (2.2.0)\n",
      "Requirement already satisfied: importlib-metadata; python_version < \"3.8\" in /opt/conda/envs/python35-paddle120-env/lib/python3.7/site-packages (from flake8>=3.7.9->visualdl->paddlenlp->-r requirements.txt (line 3)) (0.23)\n",
      "Requirement already satisfied: pyparsing!=2.0.4,!=2.1.2,!=2.1.6,>=2.0.1 in /opt/conda/envs/python35-paddle120-env/lib/python3.7/site-packages (from matplotlib->visualdl->paddlenlp->-r requirements.txt (line 3)) (2.4.2)\n",
      "Requirement already satisfied: kiwisolver>=1.0.1 in /opt/conda/envs/python35-paddle120-env/lib/python3.7/site-packages (from matplotlib->visualdl->paddlenlp->-r requirements.txt (line 3)) (1.1.0)\n",
      "Requirement already satisfied: cycler>=0.10 in /opt/conda/envs/python35-paddle120-env/lib/python3.7/site-packages (from matplotlib->visualdl->paddlenlp->-r requirements.txt (line 3)) (0.10.0)\n",
      "Requirement already satisfied: Babel>=2.3 in /opt/conda/envs/python35-paddle120-env/lib/python3.7/site-packages (from Flask-Babel>=1.0.0->visualdl->paddlenlp->-r requirements.txt (line 3)) (2.8.0)\n",
      "Requirement already satisfied: virtualenv>=15.2 in /opt/conda/envs/python35-paddle120-env/lib/python3.7/site-packages (from pre-commit->visualdl->paddlenlp->-r requirements.txt (line 3)) (16.7.9)\n",
      "Requirement already satisfied: identify>=1.0.0 in /opt/conda/envs/python35-paddle120-env/lib/python3.7/site-packages (from pre-commit->visualdl->paddlenlp->-r requirements.txt (line 3)) (1.4.10)\n",
      "Requirement already satisfied: nodeenv>=0.11.1 in /opt/conda/envs/python35-paddle120-env/lib/python3.7/site-packages (from pre-commit->visualdl->paddlenlp->-r requirements.txt (line 3)) (1.3.4)\n",
      "Requirement already satisfied: aspy.yaml in /opt/conda/envs/python35-paddle120-env/lib/python3.7/site-packages (from pre-commit->visualdl->paddlenlp->-r requirements.txt (line 3)) (1.3.0)\n",
      "Requirement already satisfied: toml in /opt/conda/envs/python35-paddle120-env/lib/python3.7/site-packages (from pre-commit->visualdl->paddlenlp->-r requirements.txt (line 3)) (0.10.0)\n",
      "Requirement already satisfied: cfgv>=2.0.0 in /opt/conda/envs/python35-paddle120-env/lib/python3.7/site-packages (from pre-commit->visualdl->paddlenlp->-r requirements.txt (line 3)) (2.0.1)\n",
      "Requirement already satisfied: joblib>=0.11 in /opt/conda/envs/python35-paddle120-env/lib/python3.7/site-packages (from scikit-learn>=0.21.3->seqeval->paddlenlp->-r requirements.txt (line 3)) (0.14.1)\n",
      "Requirement already satisfied: threadpoolctl>=2.0.0 in /opt/conda/envs/python35-paddle120-env/lib/python3.7/site-packages (from scikit-learn>=0.21.3->seqeval->paddlenlp->-r requirements.txt (line 3)) (2.1.0)\n",
      "Requirement already satisfied: scipy>=0.19.1 in /opt/conda/envs/python35-paddle120-env/lib/python3.7/site-packages (from scikit-learn>=0.21.3->seqeval->paddlenlp->-r requirements.txt (line 3)) (1.6.3)\n",
      "Requirement already satisfied: MarkupSafe>=0.23 in /opt/conda/envs/python35-paddle120-env/lib/python3.7/site-packages (from Jinja2>=2.10.1->flask->nvgpu->-r requirements.txt (line 4)) (1.1.1)\n",
      "Requirement already satisfied: zipp>=0.5 in /opt/conda/envs/python35-paddle120-env/lib/python3.7/site-packages (from importlib-metadata; python_version < \"3.8\"->flake8>=3.7.9->visualdl->paddlenlp->-r requirements.txt (line 3)) (0.6.0)\n",
      "Requirement already satisfied: more-itertools in /opt/conda/envs/python35-paddle120-env/lib/python3.7/site-packages (from zipp>=0.5->importlib-metadata; python_version < \"3.8\"->flake8>=3.7.9->visualdl->paddlenlp->-r requirements.txt (line 3)) (7.2.0)\n",
      "Building wheels for collected packages: LAC, asdl, jsonnet\n",
      "  Building wheel for LAC (setup.py) ... \u001b[?25ldone\n",
      "\u001b[?25h  Created wheel for LAC: filename=LAC-2.1.2-py2.py3-none-any.whl size=64814683 sha256=0adaa5c7eac8796d75017d70d5d1d909b6c408a6ba42256d8649b0569314653c\n",
      "  Stored in directory: /home/aistudio/.cache/pip/wheels/0c/71/09/ca4f3765e25ba8485e48e65d929611d2c389c35ad6088b2f2f\n",
      "  Building wheel for asdl (setup.py) ... \u001b[?25ldone\n",
      "\u001b[?25h  Created wheel for asdl: filename=asdl-0.1.5-cp37-none-any.whl size=9917 sha256=f82c8339a44592144c3f4b24475f51364c5d9ccca5e5fc141734da04559dc65d\n",
      "  Stored in directory: /home/aistudio/.cache/pip/wheels/c7/e5/f7/c4af8c2a93341031541486499fd927b8457ac760a6559a0b36\n",
      "  Building wheel for jsonnet (setup.py) ... \u001b[?25ldone\n",
      "\u001b[?25h  Created wheel for jsonnet: filename=jsonnet-0.17.0-cp37-cp37m-linux_x86_64.whl size=3392068 sha256=538080c940220d60ecad349c4b4b7b23a646d0863da0e5c9c32786e4ab837a2c\n",
      "  Stored in directory: /home/aistudio/.cache/pip/wheels/50/42/d0/c352224a5186162a664bac821813c239f0db856230e7f1bef4\n",
      "Successfully built LAC asdl jsonnet\n",
      "Installing collected packages: typing-extensions, arrow, aniso8601, flask-restful, ansi2html, nvgpu, LAC, PyYAML, cn2an, setproctitle, asdl, jsonnet\n",
      "  Found existing installation: PyYAML 5.1.2\n",
      "    Uninstalling PyYAML-5.1.2:\n",
      "      Successfully uninstalled PyYAML-5.1.2\n",
      "Successfully installed LAC-2.1.2 PyYAML-5.4.1 aniso8601-9.0.1 ansi2html-1.6.0 arrow-1.1.1 asdl-0.1.5 cn2an-0.5.11 flask-restful-0.3.9 jsonnet-0.17.0 nvgpu-0.9.0 setproctitle-1.2.2 typing-extensions-3.10.0.0\n"
     ]
    }
   ],
   "source": [
    "# !git clone  https://ghproxy.com/https://github.com/PaddlePaddle/Research.git\n",
    "\n",
    "%cd  /home/aistudio/Research/NLP/Text2SQL-BASELINE\n",
    "!pip install -r requirements.txt"
   ]
  },
  {
   "cell_type": "code",
   "execution_count": null,
   "metadata": {
    "collapsed": false
   },
   "outputs": [
    {
     "name": "stdout",
     "output_type": "stream",
     "text": [
      "Cloning into 'ERNIE'...\n",
      "remote: Enumerating objects: 2495, done.\u001b[K\n",
      "remote: Counting objects: 100% (468/468), done.\u001b[K\n",
      "remote: Compressing objects: 100% (334/334), done.\u001b[K\n",
      "remote: Total 2495 (delta 211), reused 336 (delta 123), pack-reused 2027\u001b[K\n",
      "Receiving objects: 100% (2495/2495), 95.51 MiB | 5.03 MiB/s, done.\n",
      "Resolving deltas: 100% (1316/1316), done.\n",
      "Checking connectivity... done.\n",
      "[Errno 2] No such file or directory: 'ERNIE && git checkout develop'\n",
      "/home/aistudio/Research/NLP/Text2SQL-BASELINE\n"
     ]
    }
   ],
   "source": [
    "!git clone  https://ghproxy.com/https://github.com/PaddlePaddle/ERNIE.git\n",
    "%cd ERNIE && git checkout develop"
   ]
  },
  {
   "cell_type": "code",
   "execution_count": null,
   "metadata": {
    "collapsed": false
   },
   "outputs": [
    {
     "name": "stdout",
     "output_type": "stream",
     "text": [
      "/home/aistudio/Research/NLP/Text2SQL-BASELINE/data\n",
      "--2021-07-22 13:05:34--  https://dataset-bj.cdn.bcebos.com/qianyan/NL2SQL.zip\n",
      "Resolving dataset-bj.cdn.bcebos.com (dataset-bj.cdn.bcebos.com)... 182.61.128.166\n",
      "Connecting to dataset-bj.cdn.bcebos.com (dataset-bj.cdn.bcebos.com)|182.61.128.166|:443... connected.\n",
      "HTTP request sent, awaiting response... 200 OK\n",
      "Length: 22378388 (21M) [application/zip]\n",
      "Saving to: ‘NL2SQL.zip’\n",
      "\n",
      "NL2SQL.zip          100%[===================>]  21.34M  --.-KB/s    in 0.09s   \n",
      "\n",
      "2021-07-22 13:05:34 (246 MB/s) - ‘NL2SQL.zip’ saved [22378388/22378388]\n",
      "\n",
      "--2021-07-22 13:05:35--  https://dataset-bj.cdn.bcebos.com/qianyan/CSpider.zip\n",
      "Resolving dataset-bj.cdn.bcebos.com (dataset-bj.cdn.bcebos.com)... 182.61.128.166\n",
      "Connecting to dataset-bj.cdn.bcebos.com (dataset-bj.cdn.bcebos.com)|182.61.128.166|:443... connected.\n",
      "HTTP request sent, awaiting response... 200 OK\n",
      "Length: 32525210 (31M) [application/zip]\n",
      "Saving to: ‘CSpider.zip’\n",
      "\n",
      "CSpider.zip         100%[===================>]  31.02M   156MB/s    in 0.2s    \n",
      "\n",
      "2021-07-22 13:05:36 (156 MB/s) - ‘CSpider.zip’ saved [32525210/32525210]\n",
      "\n",
      "--2021-07-22 13:05:39--  https://dataset-bj.cdn.bcebos.com/qianyan/DuSQL.zip\n",
      "Resolving dataset-bj.cdn.bcebos.com (dataset-bj.cdn.bcebos.com)... 182.61.128.166\n",
      "Connecting to dataset-bj.cdn.bcebos.com (dataset-bj.cdn.bcebos.com)|182.61.128.166|:443... connected.\n",
      "HTTP request sent, awaiting response... 200 OK\n",
      "Length: 2765073 (2.6M) [application/zip]\n",
      "Saving to: ‘DuSQL.zip’\n",
      "\n",
      "DuSQL.zip           100%[===================>]   2.64M  --.-KB/s    in 0.03s   \n",
      "\n",
      "2021-07-22 13:05:39 (94.5 MB/s) - ‘DuSQL.zip’ saved [2765073/2765073]\n",
      "\n",
      "--2021-07-22 13:05:40--  https://ernie-github.cdn.bcebos.com/model-ernie1.0.1.tar.gz\n",
      "Resolving ernie-github.cdn.bcebos.com (ernie-github.cdn.bcebos.com)... 182.61.128.166\n",
      "Connecting to ernie-github.cdn.bcebos.com (ernie-github.cdn.bcebos.com)|182.61.128.166|:443... connected.\n",
      "HTTP request sent, awaiting response... 200 OK\n",
      "Length: 807401196 (770M) [application/x-gzip]\n",
      "Saving to: ‘model-ernie1.0.1.tar.gz’\n",
      "\n",
      "model-ernie1.0.1.ta 100%[===================>] 770.00M   116MB/s    in 6.6s    \n",
      "\n",
      "2021-07-22 13:05:46 (116 MB/s) - ‘model-ernie1.0.1.tar.gz’ saved [807401196/807401196]\n",
      "\n",
      "/bin/sh: 1: download_trained_model.sh: not found\n"
     ]
    }
   ],
   "source": [
    "%cd  /home/aistudio/Research/NLP/Text2SQL-BASELINE/data\n",
    "!bash download_model_data.sh\n",
    "!bash download_ernie1.0.sh\n",
    "!download_trained_model.sh\n"
   ]
  },
  {
   "cell_type": "code",
   "execution_count": null,
   "metadata": {
    "collapsed": false
   },
   "outputs": [
    {
     "name": "stdout",
     "output_type": "stream",
     "text": [
      "/home/aistudio/Research/NLP/Text2SQL-BASELINE\n",
      "CUDA_VISIBLE_DEVICES=0\n",
      "running command: (/opt/conda/envs/python35-paddle120-env/bin/python3 ./script/schema_linking.py -s data/NL2SQL/db_schema.json -c data/NL2SQL/db_content.json -o data/NL2SQL/match_values_train.json -f nl2sql data/NL2SQL/train.json --is-train)\n",
      "/opt/conda/envs/python35-paddle120-env/lib/python3.7/site-packages/networkx/readwrite/graphml.py:346: DeprecationWarning: `np.int` is a deprecated alias for the builtin `int`. To silence this warning, use `int` by itself. Doing this will not modify any behavior and is safe. When replacing `np.int`, you may wish to use e.g. `np.int64` or `np.int32` to specify the precision. If you wish to review your current use, check the release note link for additional information.\n",
      "Deprecated in NumPy 1.20; for more details and guidance: https://numpy.org/devdocs/release/1.20.0-notes.html#deprecations\n",
      "  (np.int, \"int\"), (np.int8, \"int\"),\n",
      "/opt/conda/envs/python35-paddle120-env/lib/python3.7/site-packages/networkx/readwrite/gexf.py:223: DeprecationWarning: `np.int` is a deprecated alias for the builtin `int`. To silence this warning, use `int` by itself. Doing this will not modify any behavior and is safe. When replacing `np.int`, you may wish to use e.g. `np.int64` or `np.int32` to specify the precision. If you wish to review your current use, check the release note link for additional information.\n",
      "Deprecated in NumPy 1.20; for more details and guidance: https://numpy.org/devdocs/release/1.20.0-notes.html#deprecations\n",
      "  (np.int, \"int\"), (np.int8, \"int\"),\n",
      "I0722 13:16:33.688947  3347 analysis_config.cc:424] use_dlnne_:0\n",
      "I0722 13:16:33.689031  3347 analysis_config.cc:424] use_dlnne_:0\n",
      "W0722 13:16:33.706483  3347 analysis_predictor.cc:1142] Deprecated. Please use CreatePredictor instead.\n",
      "\u001b[37m---    Fused 0 subgraphs into layer_norm op.\u001b[0m\n",
      "\u001b[37m---    Fused 0 subgraphs into layer_norm op.\u001b[0m\n",
      ">>> loading databases...\n",
      ">>> extracting values...\n",
      "\u001b[0mCUDA_VISIBLE_DEVICES=0\n",
      "running command: (/opt/conda/envs/python35-paddle120-env/bin/python3 ./script/schema_linking.py -s data/NL2SQL/db_schema.json -c data/NL2SQL/db_content.json -o data/NL2SQL/match_values_dev.json -f nl2sql data/NL2SQL/dev.json)\n",
      "/opt/conda/envs/python35-paddle120-env/lib/python3.7/site-packages/networkx/readwrite/graphml.py:346: DeprecationWarning: `np.int` is a deprecated alias for the builtin `int`. To silence this warning, use `int` by itself. Doing this will not modify any behavior and is safe. When replacing `np.int`, you may wish to use e.g. `np.int64` or `np.int32` to specify the precision. If you wish to review your current use, check the release note link for additional information.\n",
      "Deprecated in NumPy 1.20; for more details and guidance: https://numpy.org/devdocs/release/1.20.0-notes.html#deprecations\n",
      "  (np.int, \"int\"), (np.int8, \"int\"),\n",
      "/opt/conda/envs/python35-paddle120-env/lib/python3.7/site-packages/networkx/readwrite/gexf.py:223: DeprecationWarning: `np.int` is a deprecated alias for the builtin `int`. To silence this warning, use `int` by itself. Doing this will not modify any behavior and is safe. When replacing `np.int`, you may wish to use e.g. `np.int64` or `np.int32` to specify the precision. If you wish to review your current use, check the release note link for additional information.\n",
      "Deprecated in NumPy 1.20; for more details and guidance: https://numpy.org/devdocs/release/1.20.0-notes.html#deprecations\n",
      "  (np.int, \"int\"), (np.int8, \"int\"),\n",
      "I0722 13:17:47.297291  3471 analysis_config.cc:424] use_dlnne_:0\n",
      "I0722 13:17:47.297367  3471 analysis_config.cc:424] use_dlnne_:0\n",
      "W0722 13:17:47.314545  3471 analysis_predictor.cc:1142] Deprecated. Please use CreatePredictor instead.\n",
      "\u001b[37m---    Fused 0 subgraphs into layer_norm op.\u001b[0m\n",
      "\u001b[37m---    Fused 0 subgraphs into layer_norm op.\u001b[0m\n",
      ">>> loading databases...\n",
      ">>> extracting values...\n",
      "\u001b[0mCUDA_VISIBLE_DEVICES=0\n",
      "running command: (/opt/conda/envs/python35-paddle120-env/bin/python3 ./script/schema_linking.py -s data/NL2SQL/db_schema.json -c data/NL2SQL/db_content.json -o data/NL2SQL/match_values_test.json -f nl2sql data/NL2SQL/test.json)\n",
      "/opt/conda/envs/python35-paddle120-env/lib/python3.7/site-packages/networkx/readwrite/graphml.py:346: DeprecationWarning: `np.int` is a deprecated alias for the builtin `int`. To silence this warning, use `int` by itself. Doing this will not modify any behavior and is safe. When replacing `np.int`, you may wish to use e.g. `np.int64` or `np.int32` to specify the precision. If you wish to review your current use, check the release note link for additional information.\n",
      "Deprecated in NumPy 1.20; for more details and guidance: https://numpy.org/devdocs/release/1.20.0-notes.html#deprecations\n",
      "  (np.int, \"int\"), (np.int8, \"int\"),\n",
      "/opt/conda/envs/python35-paddle120-env/lib/python3.7/site-packages/networkx/readwrite/gexf.py:223: DeprecationWarning: `np.int` is a deprecated alias for the builtin `int`. To silence this warning, use `int` by itself. Doing this will not modify any behavior and is safe. When replacing `np.int`, you may wish to use e.g. `np.int64` or `np.int32` to specify the precision. If you wish to review your current use, check the release note link for additional information.\n",
      "Deprecated in NumPy 1.20; for more details and guidance: https://numpy.org/devdocs/release/1.20.0-notes.html#deprecations\n",
      "  (np.int, \"int\"), (np.int8, \"int\"),\n",
      "I0722 13:18:49.688544  3555 analysis_config.cc:424] use_dlnne_:0\n",
      "I0722 13:18:49.688640  3555 analysis_config.cc:424] use_dlnne_:0\n",
      "W0722 13:18:49.705941  3555 analysis_predictor.cc:1142] Deprecated. Please use CreatePredictor instead.\n",
      "\u001b[37m---    Fused 0 subgraphs into layer_norm op.\u001b[0m\n",
      "\u001b[37m---    Fused 0 subgraphs into layer_norm op.\u001b[0m\n",
      ">>> loading databases...\n",
      ">>> extracting values...\n",
      "\u001b[0m"
     ]
    }
   ],
   "source": [
    "%cd  /home/aistudio/Research/NLP/Text2SQL-BASELINE\n",
    "\n",
    "#nl2sql\n",
    "!bash ./run.sh ./script/schema_linking.py \\\n",
    "        -s data/NL2SQL/db_schema.json \\\n",
    "        -c data/NL2SQL/db_content.json \\\n",
    "        -o data/NL2SQL/match_values_train.json  \\\n",
    "        -f nl2sql \\\n",
    "        data/NL2SQL/train.json --is-train\n",
    "!bash ./run.sh ./script/schema_linking.py \\\n",
    "        -s data/NL2SQL/db_schema.json \\\n",
    "        -c data/NL2SQL/db_content.json \\\n",
    "        -o data/NL2SQL/match_values_dev.json \\\n",
    "        -f nl2sql \\\n",
    "        data/NL2SQL/dev.json\n",
    "!bash ./run.sh ./script/schema_linking.py \\\n",
    "        -s data/NL2SQL/db_schema.json \\\n",
    "        -c data/NL2SQL/db_content.json \\\n",
    "        -o data/NL2SQL/match_values_test.json \\\n",
    "        -f nl2sql \\\n",
    "        data/NL2SQL/test.json\n",
    "\n",
    "#cspider\n",
    "!bash ./run.sh ./script/schema_linking.py \\\n",
    "        -s data/CSpider/db_schema.json \\\n",
    "        -c data/CSpider/db_content.json \\\n",
    "        -o data/CSpider/match_values_train.json \\\n",
    "        -f cspider \\\n",
    "        data/CSpider/train.json --is-train\n",
    "!bash ./run.sh ./script/schema_linking.py \\\n",
    "        -s data/CSpider/db_schema.json \\\n",
    "        -c data/CSpider/db_content.json \\\n",
    "        -o data/CSpider/match_values_dev.json \\\n",
    "        -f cspider \\\n",
    "        data/CSpider/dev.json\n",
    "!bash ./run.sh ./script/schema_linking.py \\\n",
    "        -s data/CSpider/db_schema.json \\\n",
    "        -c data/CSpider/db_content.json \\\n",
    "        -o data/CSpider/match_values_test.json \\\n",
    "        -f cspider \\\n",
    "        data/CSpider/test.json"
   ]
  },
  {
   "cell_type": "code",
   "execution_count": null,
   "metadata": {
    "collapsed": false
   },
   "outputs": [
    {
     "name": "stdout",
     "output_type": "stream",
     "text": [
      "CUDA_VISIBLE_DEVICES=0\n",
      "running command: (/opt/conda/envs/python35-paddle120-env/bin/python3 ./script/text2sql_main.py --mode preproc --config conf/text2sql_nl2sql.jsonnet --data-root data/NL2SQL/ --is-cached false --output data/NL2SQL/preproc)\n",
      "/opt/conda/envs/python35-paddle120-env/lib/python3.7/site-packages/networkx/readwrite/graphml.py:346: DeprecationWarning: `np.int` is a deprecated alias for the builtin `int`. To silence this warning, use `int` by itself. Doing this will not modify any behavior and is safe. When replacing `np.int`, you may wish to use e.g. `np.int64` or `np.int32` to specify the precision. If you wish to review your current use, check the release note link for additional information.\n",
      "Deprecated in NumPy 1.20; for more details and guidance: https://numpy.org/devdocs/release/1.20.0-notes.html#deprecations\n",
      "  (np.int, \"int\"), (np.int8, \"int\"),\n",
      "/opt/conda/envs/python35-paddle120-env/lib/python3.7/site-packages/networkx/readwrite/gexf.py:223: DeprecationWarning: `np.int` is a deprecated alias for the builtin `int`. To silence this warning, use `int` by itself. Doing this will not modify any behavior and is safe. When replacing `np.int`, you may wish to use e.g. `np.int64` or `np.int32` to specify the precision. If you wish to review your current use, check the release note link for additional information.\n",
      "Deprecated in NumPy 1.20; for more details and guidance: https://numpy.org/devdocs/release/1.20.0-notes.html#deprecations\n",
      "  (np.int, \"int\"), (np.int8, \"int\"),\n",
      "I0722 13:28:01.365471  3957 analysis_config.cc:424] use_dlnne_:0\n",
      "I0722 13:28:01.365581  3957 analysis_config.cc:424] use_dlnne_:0\n",
      "W0722 13:28:01.383419  3957 analysis_predictor.cc:1142] Deprecated. Please use CreatePredictor instead.\n",
      "\u001b[37m---    Fused 0 subgraphs into layer_norm op.\u001b[0m\n",
      "\u001b[37m---    Fused 0 subgraphs into layer_norm op.\u001b[0m\n",
      "[INFO] 2021-07-22 13:28:01,852 [tokenizing_ernie.py:  107]:    pretrain dir data/ernie/ernie_1.0_base_ch not in {'ernie-1.0': 'https://ernie-github.cdn.bcebos.com/model-ernie1.0.1.tar.gz', 'ernie-2.0-en': 'https://ernie-github.cdn.bcebos.com/model-ernie2.0-en.1.tar.gz', 'ernie-2.0-large-en': 'https://ernie-github.cdn.bcebos.com/model-ernie2.0-large-en.1.tar.gz', 'ernie-tiny': 'https://ernie-github.cdn.bcebos.com/model-ernie_tiny.1.tar.gz', 'ernie-gen-base-en': 'https://ernie-github.cdn.bcebos.com/model-ernie-gen-base-en.1.tar.gz', 'ernie-gen-large-en': 'https://ernie-github.cdn.bcebos.com/model-ernie-gen-large-en.1.tar.gz', 'ernie-gram-zh': 'https://ernie-github.cdn.bcebos.com/model-ernie-gram-zh.1.tar.gz', 'ernie-gram-en': 'https://ernie-github.cdn.bcebos.com/model-ernie-gram-en.1.tar.gz'}, read from local\n",
      "41522it [10:01, 69.03it/s] \n",
      "4396it [01:08, 64.40it/s] \n",
      "8141it [02:05, 65.09it/s] \n",
      "\u001b[0m"
     ]
    }
   ],
   "source": [
    "!bash ./run.sh ./script/text2sql_main.py \\\n",
    "        --mode preproc \\\n",
    "        --config conf/text2sql_nl2sql.jsonnet \\\n",
    "        --data-root data/NL2SQL/ \\\n",
    "        --is-cached false \\\n",
    "        --output data/NL2SQL/preproc\n",
    "\n",
    "    !bash ./run.sh ./script/text2sql_main.py \\\n",
    "        --mode preproc \\\n",
    "        --config conf/text2sql_cspider.jsonnet \\\n",
    "        --data-root data/CSpider/ \\\n",
    "        --is-cached false \\\n",
    "        --output data/CSpider/preproc"
   ]
  },
  {
   "cell_type": "code",
   "execution_count": 3,
   "metadata": {
    "collapsed": false
   },
   "outputs": [
    {
     "name": "stdout",
     "output_type": "stream",
     "text": [
      "/home/aistudio/Research/NLP/Text2SQL-BASELINE\n",
      "CUDA_VISIBLE_DEVICES=0\n",
      "running command: (/opt/conda/envs/python35-paddle120-env/bin/python3 ./script/text2sql_main.py --mode infer --config conf/text2sql_dusql.jsonnet --data-root data/DuSQL/preproc --test-set data/DuSQL/preproc/test.pkl --init-model-param data/trained_model/dusql.pdparams --output output/dusql_0.sql)\n",
      "/opt/conda/envs/python35-paddle120-env/lib/python3.7/site-packages/networkx/readwrite/graphml.py:346: DeprecationWarning: `np.int` is a deprecated alias for the builtin `int`. To silence this warning, use `int` by itself. Doing this will not modify any behavior and is safe. When replacing `np.int`, you may wish to use e.g. `np.int64` or `np.int32` to specify the precision. If you wish to review your current use, check the release note link for additional information.\n",
      "Deprecated in NumPy 1.20; for more details and guidance: https://numpy.org/devdocs/release/1.20.0-notes.html#deprecations\n",
      "  (np.int, \"int\"), (np.int8, \"int\"),\n",
      "/opt/conda/envs/python35-paddle120-env/lib/python3.7/site-packages/networkx/readwrite/gexf.py:223: DeprecationWarning: `np.int` is a deprecated alias for the builtin `int`. To silence this warning, use `int` by itself. Doing this will not modify any behavior and is safe. When replacing `np.int`, you may wish to use e.g. `np.int64` or `np.int32` to specify the precision. If you wish to review your current use, check the release note link for additional information.\n",
      "Deprecated in NumPy 1.20; for more details and guidance: https://numpy.org/devdocs/release/1.20.0-notes.html#deprecations\n",
      "  (np.int, \"int\"), (np.int8, \"int\"),\n",
      "I0723 19:34:08.615233  7231 analysis_config.cc:424] use_dlnne_:0\n",
      "I0723 19:34:08.615324  7231 analysis_config.cc:424] use_dlnne_:0\n",
      "W0723 19:34:08.632091  7231 analysis_predictor.cc:1142] Deprecated. Please use CreatePredictor instead.\n",
      "\u001b[37m---    Fused 0 subgraphs into layer_norm op.\u001b[0m\n",
      "\u001b[37m---    Fused 0 subgraphs into layer_norm op.\u001b[0m\n",
      "[INFO] 2021-07-23 19:34:09,077 [tokenizing_ernie.py:  107]:    pretrain dir data/ernie/ernie_1.0_base_ch not in {'ernie-1.0': 'https://ernie-github.cdn.bcebos.com/model-ernie1.0.1.tar.gz', 'ernie-2.0-en': 'https://ernie-github.cdn.bcebos.com/model-ernie2.0-en.1.tar.gz', 'ernie-2.0-large-en': 'https://ernie-github.cdn.bcebos.com/model-ernie2.0-large-en.1.tar.gz', 'ernie-tiny': 'https://ernie-github.cdn.bcebos.com/model-ernie_tiny.1.tar.gz', 'ernie-gen-base-en': 'https://ernie-github.cdn.bcebos.com/model-ernie-gen-base-en.1.tar.gz', 'ernie-gen-large-en': 'https://ernie-github.cdn.bcebos.com/model-ernie-gen-large-en.1.tar.gz', 'ernie-gram-zh': 'https://ernie-github.cdn.bcebos.com/model-ernie-gram-zh.1.tar.gz', 'ernie-gram-en': 'https://ernie-github.cdn.bcebos.com/model-ernie-gram-en.1.tar.gz'}, read from local\n"
     ]
    }
   ],
   "source": [
    "# !bash ./run.sh ./script/text2sql_main.py --mode infer \\\n",
    "#          --config conf/text2sql_nl2sql.jsonnet \\\n",
    "#          --data-root data/NL2SQL/preproc \\\n",
    "#          --test-set data/NL2SQL/preproc/test.pkl \\\n",
    "#          --init-model-param data/trained_model/nl2sql.pdparams \\\n",
    "#          --output output/nl2sql.sql\n",
    "\n",
    "# !bash ./run.sh ./script/text2sql_main.py --mode infer \\\n",
    "#          --config conf/text2sql_cspider.jsonnet \\\n",
    "#          --data-root data/CSpider/preproc \\\n",
    "#          --test-set data/CSpider/preproc/test.pkl \\\n",
    "#          --init-model-param output/cspider_baseline/epoch001_acc1.0000/model.pdparams \\\n",
    "#          --output output/cspider_1.sql\n",
    "\n",
    "%cd  /home/aistudio/Research/NLP/Text2SQL-BASELINE\n",
    "!bash ./run.sh ./script/text2sql_main.py --mode infer \\\n",
    "         --config conf/text2sql_dusql.jsonnet \\\n",
    "         --data-root data/DuSQL/preproc \\\n",
    "         --test-set data/DuSQL/preproc/test.pkl \\\n",
    "         --init-model-param data/trained_model/dusql.pdparams  \\\n",
    "         --output output/dusql_0.sql\n"
   ]
  }
 ],
 "metadata": {
  "kernelspec": {
   "display_name": "PaddlePaddle 2.1.0 (Python 3.5)",
   "language": "python",
   "name": "py35-paddle1.2.0"
  },
  "language_info": {
   "codemirror_mode": {
    "name": "ipython",
    "version": 3
   },
   "file_extension": ".py",
   "mimetype": "text/x-python",
   "name": "python",
   "nbconvert_exporter": "python",
   "pygments_lexer": "ipython3",
   "version": "3.7.4"
  }
 },
 "nbformat": 4,
 "nbformat_minor": 1
}
